{
 "cells": [
  {
   "cell_type": "code",
   "execution_count": 2,
   "id": "9e136f90",
   "metadata": {},
   "outputs": [],
   "source": [
    "from selenium import webdriver\n",
    "from selenium.webdriver.chrome.options import Options\n",
    "import time\n",
    "import pandas as pd\n",
    "from selenium.webdriver.support.ui import Select\n",
    "from webdriver_manager.chrome import ChromeDriverManager\n",
    "import re\n",
    "import plotly.express as px\n",
    "import plotly.graph_objects as go\n",
    "from pandas import json_normalize"
   ]
  },
  {
   "cell_type": "code",
   "execution_count": 3,
   "id": "24cfd595",
   "metadata": {},
   "outputs": [],
   "source": [
    "opciones=Options()\n",
    "\n",
    "opciones.add_experimental_option('excludeSwitches', ['enable-automation'])\n",
    "opciones.add_experimental_option('useAutomationExtension', False)\n",
    "\n",
    "opciones.headless=False    \n",
    "\n",
    "opciones.add_argument('--start-maximized')        \n",
    "\n",
    "\n",
    "\n",
    "#opciones.add_extension('driver_folder/adblock.crx')       # adblocker\n",
    "\n",
    "opciones.add_argument('--incognito')     "
   ]
  },
  {
   "cell_type": "markdown",
   "id": "b15e5d9d",
   "metadata": {},
   "source": [
    "#### saco lista de diccionarios donde la key es el movimiento y el value es la url del video"
   ]
  },
  {
   "cell_type": "code",
   "execution_count": 4,
   "id": "738affb2",
   "metadata": {},
   "outputs": [
    {
     "name": "stderr",
     "output_type": "stream",
     "text": [
      "<ipython-input-4-44f763dddab6>:2: DeprecationWarning: executable_path has been deprecated, please pass in a Service object\n",
      "  driver = webdriver.Chrome(driver, options = opciones)\n",
      "<ipython-input-4-44f763dddab6>:7: DeprecationWarning: find_element_by_* commands are deprecated. Please use find_element() instead\n",
      "  driver.find_element_by_css_selector(\"#modal > div > div > button\").click()\n",
      "<ipython-input-4-44f763dddab6>:16: DeprecationWarning: find_element_by_* commands are deprecated. Please use find_element() instead\n",
      "  driver.find_element_by_css_selector(\"#main > div:nth-child(4) > section > div > button\").click()\n",
      "<ipython-input-4-44f763dddab6>:23: DeprecationWarning: find_element_by_* commands are deprecated. Please use find_element() instead\n",
      "  nombre = (driver.find_element_by_css_selector(f\"#main > div:nth-child(4) > section > article:nth-child({i}) > div > div > a:nth-child(1) > h2\").text)\n",
      "<ipython-input-4-44f763dddab6>:24: DeprecationWarning: find_element_by_* commands are deprecated. Please use find_element() instead\n",
      "  enlace = (driver.find_element_by_css_selector(f\"#main > div:nth-child(4) > section > article:nth-child({i}) > div > div > a._wrapper_1cinr_17.comment-icon-link._comments-button_1ufrc_130\").get_attribute(\"href\"))\n",
      "<ipython-input-4-44f763dddab6>:25: DeprecationWarning: find_element_by_* commands are deprecated. Please use find_element() instead\n",
      "  urls.append(driver.find_element_by_css_selector(f\"#main > div:nth-child(4) > section > article:nth-child({i}) > div > div > a._wrapper_1cinr_17.comment-icon-link._comments-button_1ufrc_130\").get_attribute(\"href\"))\n"
     ]
    }
   ],
   "source": [
    "driver = \"./chromedriver.exe\"\n",
    "driver = webdriver.Chrome(driver, options = opciones)\n",
    "url = \"https://www.crossfit.com/essentials/movements/\"\n",
    "driver.get(url)\n",
    "\n",
    "driver.implicitly_wait(2)\n",
    "driver.find_element_by_css_selector(\"#modal > div > div > button\").click()\n",
    "\n",
    "movimientos = []\n",
    "urls = []\n",
    "link = []\n",
    "for i in range (1,143):\n",
    "    try:\n",
    "\n",
    "        driver.execute_script(\"window.scrollTo(0, window.scrollY + 300)\")\n",
    "        driver.find_element_by_css_selector(\"#main > div:nth-child(4) > section > div > button\").click()\n",
    "        driver.execute_script(\"window.scrollTo(0, window.scrollY + 300)\")\n",
    "    except:\n",
    "        break\n",
    "\n",
    "for i in range (1,143):\n",
    "    try:   \n",
    "        nombre = (driver.find_element_by_css_selector(f\"#main > div:nth-child(4) > section > article:nth-child({i}) > div > div > a:nth-child(1) > h2\").text)\n",
    "        enlace = (driver.find_element_by_css_selector(f\"#main > div:nth-child(4) > section > article:nth-child({i}) > div > div > a._wrapper_1cinr_17.comment-icon-link._comments-button_1ufrc_130\").get_attribute(\"href\"))\n",
    "        urls.append(driver.find_element_by_css_selector(f\"#main > div:nth-child(4) > section > article:nth-child({i}) > div > div > a._wrapper_1cinr_17.comment-icon-link._comments-button_1ufrc_130\").get_attribute(\"href\"))\n",
    "        movimientos.append({nombre:enlace})\n",
    "    except:\n",
    "        break\n",
    "        \n",
    "#for i in urls:\n",
    "        #link.append (driver.find_element_by_css_selector(\"#main > div._wrapper_1aue2_17._full-width_1aue2_29 > div\").get_attribute('src'))\n"
   ]
  },
  {
   "cell_type": "code",
   "execution_count": 5,
   "id": "b3b137f8",
   "metadata": {},
   "outputs": [
    {
     "data": {
      "text/plain": [
       "[{'The Legless Rope climb': 'https://www.crossfit.com/essentials/the-legless-rope-climb?topicId=article.20210831113644192'},\n",
       " {'The Dumbbell Front-Rack Lunge': 'https://www.crossfit.com/essentials/the-dumbbell-front-rack-lunge?topicId=article.20210820101544667'},\n",
       " {'The Dumbbell Hang Power Clean': 'https://www.crossfit.com/essentials/the-dumbbell-hang-power-clean?topicId=article.20210809075643175'},\n",
       " {'The Ring Push-Up': 'https://www.crossfit.com/essentials/the-ring-push-up?topicId=article.20210804154808722'},\n",
       " {'The Kipping Handstand Push-up': 'https://www.crossfit.com/essentials/the-kipping-handstand-push-up?topicId=article.20210302153512191'},\n",
       " {'The Clean and Push Jerk': 'https://www.crossfit.com/essentials/the-squat-clean-and-push-jerk?topicId=article.20210224145738635'},\n",
       " {'The Rope Climb (Basket)': 'https://www.crossfit.com/essentials/the-rope-climb-basket?topicId=article.20210209132636974'},\n",
       " {'The Turkish Get-up With Jeff Martone': 'https://www.crossfit.com/essentials/the-turkish-get-up-with-jeff-martone?topicId=article.20201222121903110'},\n",
       " {'The Glide Kip': 'https://www.crossfit.com/essentials/the-glide-kip?topicId=article.20201209095942483'},\n",
       " {'Hang Clean Demo With the Burgeners': 'https://www.crossfit.com/essentials/hang-clean-demo-with-the-burgeners?topicId=article.20201203142140876'},\n",
       " {'Forward Roll From Support': 'https://www.crossfit.com/essentials/forward-roll-from-support?topicId=article.20201202085116719'},\n",
       " {'Skin the Cat': 'https://www.crossfit.com/essentials/skin-the-cat?topicId=article.20201119115016526'},\n",
       " {'The Windshield Wiper': 'https://www.crossfit.com/essentials/the-windshield-wiper?topicId=article.20201013133223461'},\n",
       " {'The Rope Climb (Wrapping)': 'https://www.crossfit.com/essentials/the-rope-climb-wrapping?topicId=article.20201007104445302'},\n",
       " {'The Butterfly Pull-Up': 'https://www.crossfit.com/essentials/the-butterfly-pull-up?topicId=article.20200922142511318'},\n",
       " {'The Power Clean and Split Jerk': 'https://www.crossfit.com/essentials/the-power-clean-split-jerk?topicId=article.20200908143915797'},\n",
       " {'The L-Sit on Rings': 'https://www.crossfit.com/essentials/the-l-sit-on-rings?topicId=article.20200903105229012'},\n",
       " {'Toes-to-Bar Modifications': 'https://www.crossfit.com/essentials/toes-to-bar-modifications?topicId=article.20200828133521766'},\n",
       " {'The Kipping Chest-to-Bar Pull-Up': 'https://www.crossfit.com/essentials/the-kipping-chest-to-bar-pull-up?topicId=article.20200821102418132'},\n",
       " {'Pistol Variations': 'https://www.crossfit.com/essentials/pistol-variations?topicId=article.20200817095903542'},\n",
       " {'Heel Tap Progression': 'https://www.crossfit.com/essentials/heel-tap-progression?topicId=article.20200814124303237'},\n",
       " {'The Zercher Squat': 'https://www.crossfit.com/essentials/the-zercher-squat?topicId=article.20200804073230612'},\n",
       " {'Running Modifications': 'https://www.crossfit.com/essentials/running-modifications?topicId=article.20200805151911910'},\n",
       " {'The Strict Toes-to-Rings': 'https://www.crossfit.com/essentials/the-strict-toes-to-rings?topicId=article.20200729153745735'},\n",
       " {'The Strict Chest-to-Bar Pull-Up': 'https://www.crossfit.com/essentials/the-strict-chest-to-bar-pull-up?topicId=article.20200708165016766'},\n",
       " {'The Hang Clean and Push Jerk': 'https://www.crossfit.com/essentials/the-hang-clean-and-push-jerk?topicId=article.20200708112746472'},\n",
       " {'Modified Sit-up': 'https://www.crossfit.com/essentials/modified-sit-up?topicId=article.20200706133353874'},\n",
       " {'The Muscle Snatch': 'https://www.crossfit.com/essentials/the-muscle-snatch?topicId=article.20200310113830730'},\n",
       " {'The Hang Power Clean and Push Jerk': 'https://www.crossfit.com/essentials/the-hang-power-clean-and-push-jerk?topicId=article.20200618115542499'},\n",
       " {'The Kipping Toes-to-Bar': 'https://www.crossfit.com/essentials/the-kipping-toes-to-bar?topicId=article.20200529081242899'},\n",
       " {'Rope Climb Modification': 'https://www.crossfit.com/essentials/rope-climb-modification?topicId=article.20200511103019009'},\n",
       " {'L-Sit Drills': 'https://www.crossfit.com/essentials/l-sit-drills?topicId=article.20200511102627177'},\n",
       " {'The L-Sit to Shoulder Stand': 'https://www.crossfit.com/essentials/the-l-sit-to-shoulder-stand?topicId=article.20200420140657913'},\n",
       " {'The Straddle Press to Handstand': 'https://www.crossfit.com/essentials/the-straddle-press?topicId=article.20200331123114359'},\n",
       " {'The Dumbbell Power Snatch': 'https://www.crossfit.com/essentials/the-dumbbell-power-snatch?topicId=article.20200402104938356'},\n",
       " {'The Chest-to-Wall Handstand Push-Up': 'https://www.crossfit.com/essentials/the-chest-to-wall-handstand-push-up?topicId=article.20200324125403510'},\n",
       " {'Burpee Modification': 'https://www.crossfit.com/essentials/burpee-modification?topicId=article.20200324121555394'},\n",
       " {'The Dumbbell Push Press': 'https://www.crossfit.com/essentials/the-dumbbell-push-press?topicId=article.20200319115101774'},\n",
       " {'The Shoot-Through': 'https://www.crossfit.com/essentials/the-shoot-through?topicId=article.20200304125732226'},\n",
       " {'The Dumbbell Power Clean': 'https://www.crossfit.com/essentials/the-dumbbell-power-clean?topicId=article.20200221114457540'},\n",
       " {'The Freestanding Handstand Push-Up': 'https://www.crossfit.com/essentials/the-freestanding-handstand-push-up?topicId=article.20200220120814451'},\n",
       " {'Toes-to-Bar Modification': 'https://www.crossfit.com/essentials/toes-to-bar-modification?topicId=article.20200220115404743'},\n",
       " {'Swing to Backward Roll to Support': 'https://www.crossfit.com/essentials/backward-roll-to-support?topicId=article.20200206112054800'},\n",
       " {'The Sots Press': 'https://www.crossfit.com/essentials/the-sots-press?topicId=article.20200122160736953'},\n",
       " {'Muscle-Up Modification': 'https://www.crossfit.com/essentials/muscle-up-modification?topicId=article.20200103113753683'},\n",
       " {'The Kipping Deficit Handstand Push-Up': 'https://www.crossfit.com/essentials/the-kipping-deficit-handstand-push-up?topicId=article.20200122154239644'},\n",
       " {'The Dumbbell Clean': 'https://www.crossfit.com/essentials/the-dumbbell-clean?topicId=article.20200116151041390'},\n",
       " {'The Clean and Jerk': 'https://www.crossfit.com/essentials/the-clean-and-jerk?topicId=article.20200114105624947'},\n",
       " {'The Burpee Box Jump-Over': 'https://www.crossfit.com/essentials/the-burpee-box-jump-over?topicId=article.20200109130413257'},\n",
       " {'The Hanging L-Sit': 'https://www.crossfit.com/essentials/the-hanging-l-sit?topicId=article.20200113120319488'},\n",
       " {'The Strict Bar Muscle-Up': 'https://www.crossfit.com/essentials/the-strict-bar-muscle-up?topicId=article.20200103111059394'},\n",
       " {'Pull-Up Modification': 'https://www.crossfit.com/essentials/pull-up-modification?topicId=article.20191231150652134'},\n",
       " {'Handstand Push-Up Variations': 'https://www.crossfit.com/essentials/handstand-push-up-variations?topicId=article.20191230121702384'},\n",
       " {'Single-Under Modification': 'https://www.crossfit.com/essentials/single-under-modification?topicId=article.20191220153916717'},\n",
       " {'The Strict Knees-to-Elbows': 'https://www.crossfit.com/essentials/the-strict-knees-to-elbow?topicId=article.20191218141248483'},\n",
       " {'Ring Dip Modification': 'https://www.crossfit.com/essentials/modified-ring-dip?topicId=article.20191219130111522'},\n",
       " {'The Hang Snatch': 'https://www.crossfit.com/essentials/the-hang-snatch?topicId=article.20191212150840547'},\n",
       " {'The Split Clean': 'https://www.crossfit.com/essentials/the-split-clean?topicId=article.20191213103340337'},\n",
       " {'The Box Step-Up': 'https://www.crossfit.com/essentials/the-box-step-up?topicId=article.20191204132825867'},\n",
       " {'The Dumbbell Front Squat': 'https://www.crossfit.com/essentials/the-dumbbell-front-squat?topicId=article.20191202104833971'},\n",
       " {'The Strict Toes-To-Bar': 'https://www.crossfit.com/essentials/the-strict-toes-to-bar?topicId=article.20191122114307755'},\n",
       " {'The Hang Clean': 'https://www.crossfit.com/essentials/the-hang-squat-clean?topicId=article.20191121081346994'},\n",
       " {'The Dumbbell Push Jerk': 'https://www.crossfit.com/essentials/the-dumbbell-push-jerk?topicId=article.20191118150609423'},\n",
       " {'The Dip': 'https://www.crossfit.com/essentials/the-dip?topicId=article.20191112124839055'},\n",
       " {'The Dumbbell Deadlift': 'https://www.crossfit.com/essentials/the-dumbbell-deadlift?topicId=article.20191104104620049'},\n",
       " {'The Split Snatch': 'https://www.crossfit.com/essentials/the-split-snatch?topicId=article.20191028132429754'},\n",
       " {'The Pull-Over': 'https://www.crossfit.com/essentials/the-pull-over?topicId=article.20191018155829077'},\n",
       " {'The Sumo Deadlift': 'https://www.crossfit.com/essentials/the-sumo-deadlift?topicId=article.20191016150004403'},\n",
       " {'Ring Row Progression': 'https://www.crossfit.com/essentials/ring-row-progression?topicId=article.20191008120930186'},\n",
       " {'Step-Up Progression': 'https://www.crossfit.com/essentials/step-up-progression?topicId=article.20191008104257459'},\n",
       " {'The Kettlebell Swing': 'https://www.crossfit.com/essentials/the-kettlebell-swing?topicId=article.20190930115219766'},\n",
       " {'Squat Clinic': 'https://www.crossfit.com/191002?topicId=article.20190925165421481'},\n",
       " {'Air Squat Progression': 'https://www.crossfit.com/essentials/squat-progression?topicId=article.20190925163936689'},\n",
       " {'The Split Jerk': 'https://www.crossfit.com/essentials/the-split-jerk?topicId=article.20190925161902483'},\n",
       " {'The Kettlebell Snatch': 'https://www.crossfit.com/essentials/the-kettlebell-snatch?topicId=article.20190925141600283'},\n",
       " {'Training the GHD Sit-Up': 'https://www.crossfit.com/essentials/the-glute-ham-developer-sit-up?topicId=article.20190916103520992'},\n",
       " {'The Wall Walk': 'https://www.crossfit.com/essentials/the-wall-walk?topicId=article.20190905144655915'},\n",
       " {'The Hang Power Snatch': 'https://www.crossfit.com/essentials/the-hang-power-snatch?topicId=article.20190830164253515'},\n",
       " {'The Dumbbell Thruster': 'https://www.crossfit.com/essentials/the-dumbbell-thruster?topicId=article.20190828163822922'},\n",
       " {'The Kipping Muscle-Up': 'https://www.crossfit.com/essentials/the-kipping-muscle-up?topicId=article.20190828155204345'},\n",
       " {'The Muscle-Up': 'https://www.crossfit.com/190908?topicId=article.20190828155631245'},\n",
       " {'The Dumbbell Hang Clean': 'https://www.crossfit.com/essentials/the-dumbbell-hang-clean?topicId=article.20190826140546590'},\n",
       " {'The Hang Power Clean': 'https://www.crossfit.com/essentials/the-hang-power-clean?topicId=article.20190819213831569'},\n",
       " {'The Box Jump': 'https://www.crossfit.com/essentials/the-box-jump?topicId=article.20190819210629225'},\n",
       " {'Presses To Handstand': 'https://www.crossfit.com/essentials/presses-to-handstands?topicId=article.20190819115807023'},\n",
       " {'Modified Rope Climb': 'https://www.crossfit.com/essentials/the-modified-rope-climb?topicId=article.20190814103738538'},\n",
       " {'The AbMat Sit-Up': 'https://www.crossfit.com/essentials/the-abmat-sit-up?topicId=article.20190814103520310'},\n",
       " {'The Deadlift': 'https://www.crossfit.com/190815?topicId=article.20190814104837750'},\n",
       " {'The Burpee': 'https://www.crossfit.com/essentials/the-burpee-2?topicId=article.20190808115225728'},\n",
       " {'The Power Snatch': 'https://www.crossfit.com/essentials/the-power-snatch?topicId=article.20190724163257448'},\n",
       " {'The Clean': 'https://www.crossfit.com/essentials/the-clean-2?topicId=article.20190506154535168'},\n",
       " {'The Snatch': 'https://www.crossfit.com/essentials/the-snatch?topicId=article.20190724150240641'},\n",
       " {'The Dumbbell Overhead Squat': 'https://www.crossfit.com/essentials/the-dumbbell-overhead-squat?topicId=article.20190724123048213'},\n",
       " {'The GHD Sit-Up': 'https://www.crossfit.com/essentials/the-ghd-sit-up?topicId=article.20190724102459322'},\n",
       " {'The Wall-Ball Shot': 'https://www.crossfit.com/essentials/the-wall-ball?topicId=article.20190721155518618'},\n",
       " {'Handstand Pirouettes': 'https://www.crossfit.com/essentials/pirouettes?topicId=article.20190715142435611'},\n",
       " {'The Inverted Burpee': 'https://www.crossfit.com/essentials/the-inverted-burpee?topicId=article.20190712144813049'},\n",
       " {'Candlestick Conditioning Drills': 'https://www.crossfit.com/essentials/candlestick-drills?topicId=article.20190619120245621'},\n",
       " {'The Ring Row': 'https://www.crossfit.com/essentials/the-ring-row?topicId=article.20190619082700304'},\n",
       " {'Walking Warm-Up': 'https://www.crossfit.com/essentials/walking-warm-up?topicId=article.20190613145430140'},\n",
       " {'Descent From Handstand Variations': 'https://www.crossfit.com/essentials/descent-from-handstand-variations?topicId=article.20190604121012645'},\n",
       " {'The Slam Ball': 'https://www.crossfit.com/essentials/the-slam-ball?topicId=article.20190531112609941'},\n",
       " {'The Kipping Pull-Up': 'https://www.crossfit.com/essentials/the-kipping-pull-up?topicId=article.20190506165549437'},\n",
       " {'The Clean & Jerk': 'https://www.crossfit.com/essentials/the-clean-jerk?topicId=article.20190510124858546'},\n",
       " {'The Clean': 'https://www.crossfit.com/190521?topicId=article.20190506155207372'},\n",
       " {'The Single-Leg Squat': 'https://www.crossfit.com/essentials/the-single-leg-squat?topicId=article.20190506141531747'},\n",
       " {'The Dumbbell Squat Snatch': 'https://www.crossfit.com/essentials/the-dumbbell-snatch?topicId=article.20190506122008921'},\n",
       " {'The Handstand Walk': 'https://www.crossfit.com/essentials/the-handstand-walk?topicId=article.20190506115918182'},\n",
       " {'The Dumbbell Farmers Carry': 'https://www.crossfit.com/essentials/the-farmer-carry?topicId=article.20190502105559460'},\n",
       " {'The Bench Press': 'https://www.crossfit.com/essentials/the-bench-press?topicId=article.20190501150142022'},\n",
       " {'The Good Morning': 'https://www.crossfit.com/essentials/the-good-morning?topicId=article.20190430154017437'},\n",
       " {'The Strict Muscle-Up': 'https://www.crossfit.com/essentials/the-strict-muscle-up?topicId=article.20190404124013947'},\n",
       " {'The Ring Dip': 'https://www.crossfit.com/essentials/the-ring-dip?topicId=article.20190404122203952'},\n",
       " {'The Back Squat': 'https://www.crossfit.com/essentials/the-back-squat?topicId=article.20190404110737340'},\n",
       " {'Plank Variations': 'https://www.crossfit.com/essentials/plank-variations?topicId=article.20190412152901537'},\n",
       " {'The Dumbbell Turkish Get-Up': 'https://www.crossfit.com/essentials/the-dumbbell-turkish-get-up?topicId=article.20190402133302203'},\n",
       " {'The Thruster': 'https://www.crossfit.com/essentials/the-thruster?topicId=article.20190402132154531'},\n",
       " {'The L-Sit Rope Climb': 'https://www.crossfit.com/essentials/the-l-sit-rope-climb?topicId=article.20190401123450764'},\n",
       " {'The L Pull-Up': 'https://www.crossfit.com/essentials/the-l-pull-up?topicId=article.20190328115446045'},\n",
       " {'The Walking Lunge': 'https://www.crossfit.com/essentials/the-walking-lunge?topicId=article.20190321134614685'},\n",
       " {'Rowing': 'https://www.crossfit.com/essentials/rowing?topicId=article.20190318133027477'},\n",
       " {'The Power Clean': 'https://www.crossfit.com/essentials/the-power-clean?topicId=article.20190315151715619'},\n",
       " {'The Handstand': 'https://www.crossfit.com/essentials/freestanding-handstand?topicId=article.20190306124928220'},\n",
       " {'The Strict Handstand Push-Up': 'https://www.crossfit.com/essentials/the-strict-handstand-push-up?topicId=article.20190304143529516'},\n",
       " {'The Front Scale': 'https://www.crossfit.com/essentials/front-scales-progression?topicId=article.20190305100812557'},\n",
       " {'The Back Scale': 'https://www.crossfit.com/essentials/back-scales-progression?topicId=article.20190301151526094'},\n",
       " {'The Double-Under': 'https://www.crossfit.com/essentials/the-double-under?topicId=article.20190226152230132'},\n",
       " {'The Push Press': 'https://www.crossfit.com/essentials/the-push-press?topicId=article.20190225134011947'},\n",
       " {'The Push Jerk': 'https://www.crossfit.com/essentials/the-push-jerk?topicId=article.20190225134408783'},\n",
       " {'The Overhead Squat': 'https://www.crossfit.com/essentials/the-overhead-squat?topicId=article.20190222121719271'},\n",
       " {'The Medicine-Ball Clean': 'https://www.crossfit.com/essentials/the-medicine-ball-clean?topicId=article.20190201135119644'},\n",
       " {'The Push-Up': 'https://www.crossfit.com/essentials/the-push-up?topicId=article.20190208115424422'},\n",
       " {'The L-Sit': 'https://www.crossfit.com/essentials/the-l-sit?topicId=article.20190201115137710'},\n",
       " {'The Strict Pull-Up': 'https://www.crossfit.com/essentials/the-strict-pull-up?topicId=article.20190124130331694'},\n",
       " {'The Sumo Deadlift High Pull': 'https://www.crossfit.com/essentials/the-sumo-deadlift-high-pull?topicId=article.20190124113447134'},\n",
       " {'The Front Squat': 'https://www.crossfit.com/essentials/the-front-squat?topicId=article.20190122141323634'},\n",
       " {'The GHD Hip Extension': 'https://www.crossfit.com/essentials/the-ghd-hip-extension?topicId=article.20190118102456751'},\n",
       " {'The GHD Hip & Back Extension': 'https://www.crossfit.com/essentials/the-ghd-hip-and-back-extension?topicId=article.20190118103329749'},\n",
       " {'The GHD Hip, Back, and Hip-Back Extensions': 'https://www.crossfit.com/at-home/hip-back-and-hip-back-extensions?topicId=article.201901161052'},\n",
       " {'The GHD Back Extension': 'https://www.crossfit.com/essentials/the-ghd-back-extension?topicId=article.20190118103044814'},\n",
       " {'The Shoulder Press': 'https://www.crossfit.com/essentials/the-shoulder-press?topicId=article.201901161002'},\n",
       " {'The Air Squat': 'https://www.crossfit.com/essentials/the-air-squat?topicId=article.201901090958'}]"
      ]
     },
     "execution_count": 5,
     "metadata": {},
     "output_type": "execute_result"
    }
   ],
   "source": [
    "movimientos"
   ]
  },
  {
   "cell_type": "markdown",
   "id": "4b055727",
   "metadata": {},
   "source": [
    "#### con beautifulsoup consigo el enlace del iframe "
   ]
  },
  {
   "cell_type": "code",
   "execution_count": 7,
   "id": "825751fc",
   "metadata": {},
   "outputs": [
    {
     "data": {
      "text/plain": [
       "'\\nlista_nueva = []\\nfor elemento in movimientos:\\n    for key,value in elemento: \\n        url = elemento.value \\n        te sacas el soup del url\\n        luego te sacas el enlace con el código que te he regalado :) \\n        lo limpias (el código que limpia lo haces a parte y es lo primero que tienes que pensar)  x\\n        elemento[NOMBRE] = el iframe\\n        lista_nueva.append(elemento)\\n        Y YASTARÍA\\n'"
      ]
     },
     "execution_count": 7,
     "metadata": {},
     "output_type": "execute_result"
    }
   ],
   "source": [
    "\"\"\"\n",
    "lista_nueva = []\n",
    "for elemento in movimientos:\n",
    "    for key,value in elemento: \n",
    "        url = elemento.value \n",
    "        te sacas el soup del url\n",
    "        luego te sacas el enlace con el código que te he regalado :) \n",
    "        lo limpias (el código que limpia lo haces a parte y es lo primero que tienes que pensar)  x\n",
    "        elemento[NOMBRE] = el iframe\n",
    "        lista_nueva.append(elemento)\n",
    "        Y YASTARÍA\n",
    "\"\"\""
   ]
  },
  {
   "cell_type": "code",
   "execution_count": 8,
   "id": "ccc6bbfa",
   "metadata": {},
   "outputs": [],
   "source": [
    "import time\n",
    "import requests \n",
    "from bs4 import BeautifulSoup"
   ]
  },
  {
   "cell_type": "code",
   "execution_count": 9,
   "id": "2bea051d",
   "metadata": {},
   "outputs": [],
   "source": [
    "html = requests.get(\"https://www.crossfit.com/essentials/the-rope-climb-basket?topicId=article.20210209132636974\")\n",
    "soup = BeautifulSoup(html.content, \"html.parser\")\n"
   ]
  },
  {
   "cell_type": "code",
   "execution_count": 10,
   "id": "5ba4a85d",
   "metadata": {},
   "outputs": [],
   "source": [
    "enlaces = soup.select(\"iframe\")[0]"
   ]
  },
  {
   "cell_type": "code",
   "execution_count": 11,
   "id": "6aba4694",
   "metadata": {},
   "outputs": [
    {
     "data": {
      "text/plain": [
       "<iframe allow=\"autoplay\" allowfullscreen=\"\" data-gtm-yt-inspected-10720717_22=\"true\" frameborder=\"0\" height=\"270\" id=\"ytPlayer-Pa4QUC9AvuA\" src=\"https://www.youtube.com/embed/Pa4QUC9AvuA?autoplay=1&amp;modestbranding=1&amp;rel=0&amp;enablejsapi=1&amp;origin=https://crossfit.com\" title=\"Youtube video player\" width=\"480\"></iframe>"
      ]
     },
     "execution_count": 11,
     "metadata": {},
     "output_type": "execute_result"
    }
   ],
   "source": [
    "enlaces"
   ]
  },
  {
   "cell_type": "code",
   "execution_count": 12,
   "id": "79a5da03",
   "metadata": {},
   "outputs": [],
   "source": [
    "lista_nueva = []\n",
    "for elemento in movimientos:\n",
    "    for key,value in elemento.items(): \n",
    "        url = elemento[key]\n",
    "        html=requests.get(url)\n",
    "        soup=BeautifulSoup(html.content, \"html.parser\")\n",
    "        enlaces = soup.select(\"iframe\")[0]\n",
    "        elemento[key] = enlaces\n",
    "        lista_nueva.append(elemento)"
   ]
  },
  {
   "cell_type": "code",
   "execution_count": 22,
   "id": "12e6787d",
   "metadata": {},
   "outputs": [
    {
     "data": {
      "text/plain": [
       "[{'The Legless Rope climb': <iframe allow=\"autoplay\" allowfullscreen=\"\" data-gtm-yt-inspected-10720717_22=\"true\" frameborder=\"0\" height=\"270\" id=\"ytPlayer-rfr-Tw3Pxh8\" src=\"https://www.youtube.com/embed/rfr-Tw3Pxh8?autoplay=1&amp;modestbranding=1&amp;rel=0&amp;enablejsapi=1&amp;origin=https://crossfit.com\" title=\"Youtube video player\" width=\"480\"></iframe>},\n",
       " {'The Dumbbell Front-Rack Lunge': <iframe allow=\"autoplay\" allowfullscreen=\"\" data-gtm-yt-inspected-10720717_22=\"true\" frameborder=\"0\" height=\"270\" id=\"ytPlayer-7EmwtpAI8cM\" src=\"https://www.youtube.com/embed/7EmwtpAI8cM?autoplay=1&amp;modestbranding=1&amp;rel=0&amp;enablejsapi=1&amp;origin=https://crossfit.com\" title=\"Youtube video player\" width=\"480\"></iframe>},\n",
       " {'The Dumbbell Hang Power Clean': <iframe allow=\"autoplay\" allowfullscreen=\"\" data-gtm-yt-inspected-10720717_22=\"true\" frameborder=\"0\" height=\"270\" id=\"ytPlayer-myc1taX-uBs\" src=\"https://www.youtube.com/embed/myc1taX-uBs?autoplay=1&amp;modestbranding=1&amp;rel=0&amp;enablejsapi=1&amp;origin=https://crossfit.com\" title=\"Youtube video player\" width=\"480\"></iframe>},\n",
       " {'The Ring Push-Up': <iframe allow=\"autoplay\" allowfullscreen=\"\" data-gtm-yt-inspected-10720717_22=\"true\" frameborder=\"0\" height=\"270\" id=\"ytPlayer-FRiiZRhapeU\" src=\"https://www.youtube.com/embed/FRiiZRhapeU?autoplay=1&amp;modestbranding=1&amp;rel=0&amp;enablejsapi=1&amp;origin=https://crossfit.com\" title=\"Youtube video player\" width=\"480\"></iframe>},\n",
       " {'The Kipping Handstand Push-up': <iframe allow=\"autoplay\" allowfullscreen=\"\" data-gtm-yt-inspected-10720717_22=\"true\" frameborder=\"0\" height=\"270\" id=\"ytPlayer-9wIkPCS4Mbo\" src=\"https://www.youtube.com/embed/9wIkPCS4Mbo?autoplay=1&amp;modestbranding=1&amp;rel=0&amp;enablejsapi=1&amp;origin=https://crossfit.com\" title=\"Youtube video player\" width=\"480\"></iframe>},\n",
       " {'The Clean and Push Jerk': <iframe allow=\"autoplay\" allowfullscreen=\"\" data-gtm-yt-inspected-10720717_22=\"true\" frameborder=\"0\" height=\"270\" id=\"ytPlayer-GqAEuwXQXRU\" src=\"https://www.youtube.com/embed/GqAEuwXQXRU?autoplay=1&amp;modestbranding=1&amp;rel=0&amp;enablejsapi=1&amp;origin=https://crossfit.com\" title=\"Youtube video player\" width=\"480\"></iframe>},\n",
       " {'The Rope Climb (Basket)': <iframe allow=\"autoplay\" allowfullscreen=\"\" data-gtm-yt-inspected-10720717_22=\"true\" frameborder=\"0\" height=\"270\" id=\"ytPlayer-Pa4QUC9AvuA\" src=\"https://www.youtube.com/embed/Pa4QUC9AvuA?autoplay=1&amp;modestbranding=1&amp;rel=0&amp;enablejsapi=1&amp;origin=https://crossfit.com\" title=\"Youtube video player\" width=\"480\"></iframe>},\n",
       " {'The Turkish Get-up With Jeff Martone': <iframe allow=\"autoplay\" allowfullscreen=\"\" data-gtm-yt-inspected-10720717_22=\"true\" frameborder=\"0\" height=\"270\" id=\"ytPlayer-VQq8I_n_hRE\" src=\"https://www.youtube.com/embed/VQq8I_n_hRE?autoplay=1&amp;modestbranding=1&amp;rel=0&amp;enablejsapi=1&amp;origin=https://crossfit.com\" title=\"Youtube video player\" width=\"480\"></iframe>},\n",
       " {'The Glide Kip': <iframe allow=\"autoplay\" allowfullscreen=\"\" data-gtm-yt-inspected-10720717_22=\"true\" frameborder=\"0\" height=\"270\" id=\"ytPlayer-6UYEyhFpN0s\" src=\"https://www.youtube.com/embed/6UYEyhFpN0s?autoplay=1&amp;modestbranding=1&amp;rel=0&amp;enablejsapi=1&amp;origin=https://crossfit.com\" title=\"Youtube video player\" width=\"480\"></iframe>},\n",
       " {'Hang Clean Demo With the Burgeners': <iframe allow=\"autoplay\" allowfullscreen=\"\" data-gtm-yt-inspected-10720717_22=\"true\" frameborder=\"0\" height=\"270\" id=\"ytPlayer-frXxqG9RcME\" src=\"https://www.youtube.com/embed/frXxqG9RcME?autoplay=1&amp;modestbranding=1&amp;rel=0&amp;enablejsapi=1&amp;origin=https://crossfit.com\" title=\"Youtube video player\" width=\"480\"></iframe>},\n",
       " {'Forward Roll From Support': <iframe allow=\"autoplay\" allowfullscreen=\"\" data-gtm-yt-inspected-10720717_22=\"true\" frameborder=\"0\" height=\"270\" id=\"ytPlayer-xF8ptIfnfBo\" src=\"https://www.youtube.com/embed/xF8ptIfnfBo?autoplay=1&amp;modestbranding=1&amp;rel=0&amp;enablejsapi=1&amp;origin=https://crossfit.com\" title=\"Youtube video player\" width=\"480\"></iframe>},\n",
       " {'Skin the Cat': <iframe allow=\"autoplay\" allowfullscreen=\"\" data-gtm-yt-inspected-10720717_22=\"true\" frameborder=\"0\" height=\"270\" id=\"ytPlayer-ABSpTs17ObA\" src=\"https://www.youtube.com/embed/ABSpTs17ObA?autoplay=1&amp;modestbranding=1&amp;rel=0&amp;enablejsapi=1&amp;origin=https://crossfit.com\" title=\"Youtube video player\" width=\"480\"></iframe>},\n",
       " {'The Windshield Wiper': <iframe allow=\"autoplay\" allowfullscreen=\"\" data-gtm-yt-inspected-10720717_22=\"true\" frameborder=\"0\" height=\"270\" id=\"ytPlayer-W2xdEDuR-dE\" src=\"https://www.youtube.com/embed/W2xdEDuR-dE?autoplay=1&amp;modestbranding=1&amp;rel=0&amp;enablejsapi=1&amp;origin=https://crossfit.com\" title=\"Youtube video player\" width=\"480\"></iframe>},\n",
       " {'The Rope Climb (Wrapping)': <iframe allow=\"autoplay\" allowfullscreen=\"\" data-gtm-yt-inspected-10720717_22=\"true\" frameborder=\"0\" height=\"270\" id=\"ytPlayer-zBoTgBpkn7o\" src=\"https://www.youtube.com/embed/zBoTgBpkn7o?autoplay=1&amp;modestbranding=1&amp;rel=0&amp;enablejsapi=1&amp;origin=https://crossfit.com\" title=\"Youtube video player\" width=\"480\"></iframe>},\n",
       " {'The Butterfly Pull-Up': <iframe allow=\"autoplay\" allowfullscreen=\"\" data-gtm-yt-inspected-10720717_22=\"true\" frameborder=\"0\" height=\"270\" id=\"ytPlayer-U_MhBXnlInE\" src=\"https://www.youtube.com/embed/U_MhBXnlInE?autoplay=1&amp;modestbranding=1&amp;rel=0&amp;enablejsapi=1&amp;origin=https://crossfit.com\" title=\"Youtube video player\" width=\"480\"></iframe>},\n",
       " {'The Power Clean and Split Jerk': <iframe allow=\"autoplay\" allowfullscreen=\"\" data-gtm-yt-inspected-10720717_22=\"true\" frameborder=\"0\" height=\"270\" id=\"ytPlayer-Sk1vhXhHO_A\" src=\"https://www.youtube.com/embed/Sk1vhXhHO_A?autoplay=1&amp;modestbranding=1&amp;rel=0&amp;enablejsapi=1&amp;origin=https://crossfit.com\" title=\"Youtube video player\" width=\"480\"></iframe>},\n",
       " {'The L-Sit on Rings': <iframe allow=\"autoplay\" allowfullscreen=\"\" data-gtm-yt-inspected-10720717_22=\"true\" frameborder=\"0\" height=\"270\" id=\"ytPlayer-lwcHmXvw-T4\" src=\"https://www.youtube.com/embed/lwcHmXvw-T4?autoplay=1&amp;modestbranding=1&amp;rel=0&amp;enablejsapi=1&amp;origin=https://crossfit.com\" title=\"Youtube video player\" width=\"480\"></iframe>},\n",
       " {'Toes-to-Bar Modifications': <iframe allow=\"autoplay\" allowfullscreen=\"\" data-gtm-yt-inspected-10720717_22=\"true\" frameborder=\"0\" height=\"270\" id=\"ytPlayer-vStgCiR-u_k\" src=\"https://www.youtube.com/embed/vStgCiR-u_k?autoplay=1&amp;modestbranding=1&amp;rel=0&amp;enablejsapi=1&amp;origin=https://crossfit.com\" title=\"Youtube video player\" width=\"480\"></iframe>},\n",
       " {'The Kipping Chest-to-Bar Pull-Up': <iframe allow=\"autoplay\" allowfullscreen=\"\" data-gtm-yt-inspected-10720717_22=\"true\" frameborder=\"0\" height=\"270\" id=\"ytPlayer-AyPTCEXTjOo\" src=\"https://www.youtube.com/embed/AyPTCEXTjOo?autoplay=1&amp;modestbranding=1&amp;rel=0&amp;enablejsapi=1&amp;origin=https://crossfit.com\" title=\"Youtube video player\" width=\"480\"></iframe>},\n",
       " {'Pistol Variations': <iframe allow=\"autoplay\" allowfullscreen=\"\" data-gtm-yt-inspected-10720717_22=\"true\" frameborder=\"0\" height=\"270\" id=\"ytPlayer-FW5JT6KIaq4\" src=\"https://www.youtube.com/embed/FW5JT6KIaq4?autoplay=1&amp;modestbranding=1&amp;rel=0&amp;enablejsapi=1&amp;origin=https://crossfit.com\" title=\"Youtube video player\" width=\"480\"></iframe>},\n",
       " {'Heel Tap Progression': <iframe allow=\"autoplay\" allowfullscreen=\"\" data-gtm-yt-inspected-10720717_22=\"true\" frameborder=\"0\" height=\"270\" id=\"ytPlayer-o8vER9PmwK0\" src=\"https://www.youtube.com/embed/o8vER9PmwK0?autoplay=1&amp;modestbranding=1&amp;rel=0&amp;enablejsapi=1&amp;origin=https://crossfit.com\" title=\"Youtube video player\" width=\"480\"></iframe>},\n",
       " {'The Zercher Squat': <iframe allow=\"autoplay\" allowfullscreen=\"\" data-gtm-yt-inspected-10720717_22=\"true\" frameborder=\"0\" height=\"270\" id=\"ytPlayer-nwx6Ip7hd3I\" src=\"https://www.youtube.com/embed/nwx6Ip7hd3I?autoplay=1&amp;modestbranding=1&amp;rel=0&amp;enablejsapi=1&amp;origin=https://crossfit.com\" title=\"Youtube video player\" width=\"480\"></iframe>},\n",
       " {'Running Modifications': <iframe allow=\"autoplay\" allowfullscreen=\"\" data-gtm-yt-inspected-10720717_22=\"true\" frameborder=\"0\" height=\"270\" id=\"ytPlayer-Ixkmtp_ZFD8\" src=\"https://www.youtube.com/embed/Ixkmtp_ZFD8?autoplay=1&amp;modestbranding=1&amp;rel=0&amp;enablejsapi=1&amp;origin=https://crossfit.com\" title=\"Youtube video player\" width=\"480\"></iframe>},\n",
       " {'The Strict Toes-to-Rings': <iframe allow=\"autoplay\" allowfullscreen=\"\" data-gtm-yt-inspected-10720717_22=\"true\" frameborder=\"0\" height=\"270\" id=\"ytPlayer-1zp-B1Vb_Vs\" src=\"https://www.youtube.com/embed/1zp-B1Vb_Vs?autoplay=1&amp;modestbranding=1&amp;rel=0&amp;enablejsapi=1&amp;origin=https://crossfit.com\" title=\"Youtube video player\" width=\"480\"></iframe>},\n",
       " {'The Strict Chest-to-Bar Pull-Up': <iframe allow=\"autoplay\" allowfullscreen=\"\" data-gtm-yt-inspected-10720717_22=\"true\" frameborder=\"0\" height=\"270\" id=\"ytPlayer-xf69XHAs5w8\" src=\"https://www.youtube.com/embed/xf69XHAs5w8?autoplay=1&amp;modestbranding=1&amp;rel=0&amp;enablejsapi=1&amp;origin=https://crossfit.com\" title=\"Youtube video player\" width=\"480\"></iframe>},\n",
       " {'The Hang Clean and Push Jerk': <iframe allow=\"autoplay\" allowfullscreen=\"\" data-gtm-yt-inspected-10720717_22=\"true\" frameborder=\"0\" height=\"270\" id=\"ytPlayer-KBpys4KTG5Q\" src=\"https://www.youtube.com/embed/KBpys4KTG5Q?autoplay=1&amp;modestbranding=1&amp;rel=0&amp;enablejsapi=1&amp;origin=https://crossfit.com\" title=\"Youtube video player\" width=\"480\"></iframe>},\n",
       " {'Modified Sit-up': <iframe allow=\"autoplay\" allowfullscreen=\"\" data-gtm-yt-inspected-10720717_22=\"true\" frameborder=\"0\" height=\"270\" id=\"ytPlayer-jFqU5TdXJdM\" src=\"https://www.youtube.com/embed/jFqU5TdXJdM?autoplay=1&amp;modestbranding=1&amp;rel=0&amp;enablejsapi=1&amp;origin=https://crossfit.com\" title=\"Youtube video player\" width=\"480\"></iframe>},\n",
       " {'The Muscle Snatch': <iframe allow=\"autoplay\" allowfullscreen=\"\" data-gtm-yt-inspected-10720717_22=\"true\" frameborder=\"0\" height=\"270\" id=\"ytPlayer-bJYzOo1cNqY\" src=\"https://www.youtube.com/embed/bJYzOo1cNqY?autoplay=1&amp;modestbranding=1&amp;rel=0&amp;enablejsapi=1&amp;origin=https://crossfit.com\" title=\"Youtube video player\" width=\"480\"></iframe>},\n",
       " {'The Hang Power Clean and Push Jerk': <iframe allow=\"autoplay\" allowfullscreen=\"\" data-gtm-yt-inspected-10720717_22=\"true\" frameborder=\"0\" height=\"270\" id=\"ytPlayer-8IYt7AtP8BI\" src=\"https://www.youtube.com/embed/8IYt7AtP8BI?autoplay=1&amp;modestbranding=1&amp;rel=0&amp;enablejsapi=1&amp;origin=https://crossfit.com\" title=\"Youtube video player\" width=\"480\"></iframe>},\n",
       " {'The Kipping Toes-to-Bar': <iframe allow=\"autoplay\" allowfullscreen=\"\" data-gtm-yt-inspected-10720717_22=\"true\" frameborder=\"0\" height=\"270\" id=\"ytPlayer-6dHvTlsMvNY\" src=\"https://www.youtube.com/embed/6dHvTlsMvNY?autoplay=1&amp;modestbranding=1&amp;rel=0&amp;enablejsapi=1&amp;origin=https://crossfit.com\" title=\"Youtube video player\" width=\"480\"></iframe>},\n",
       " {'Rope Climb Modification': <iframe allow=\"autoplay\" allowfullscreen=\"\" data-gtm-yt-inspected-10720717_22=\"true\" frameborder=\"0\" height=\"270\" id=\"ytPlayer-2gG392ggroA\" src=\"https://www.youtube.com/embed/2gG392ggroA?autoplay=1&amp;modestbranding=1&amp;rel=0&amp;enablejsapi=1&amp;origin=https://crossfit.com\" title=\"Youtube video player\" width=\"480\"></iframe>},\n",
       " {'L-Sit Drills': <iframe allow=\"autoplay\" allowfullscreen=\"\" data-gtm-yt-inspected-10720717_22=\"true\" frameborder=\"0\" height=\"270\" id=\"ytPlayer-qpi59_uSbrw\" src=\"https://www.youtube.com/embed/qpi59_uSbrw?autoplay=1&amp;modestbranding=1&amp;rel=0&amp;enablejsapi=1&amp;origin=https://crossfit.com\" title=\"Youtube video player\" width=\"480\"></iframe>},\n",
       " {'The L-Sit to Shoulder Stand': <iframe allow=\"autoplay\" allowfullscreen=\"\" data-gtm-yt-inspected-10720717_22=\"true\" frameborder=\"0\" height=\"270\" id=\"ytPlayer-OkIPCkXhBmY\" src=\"https://www.youtube.com/embed/OkIPCkXhBmY?autoplay=1&amp;modestbranding=1&amp;rel=0&amp;enablejsapi=1&amp;origin=https://crossfit.com\" title=\"Youtube video player\" width=\"480\"></iframe>},\n",
       " {'The Straddle Press to Handstand': <iframe allow=\"autoplay\" allowfullscreen=\"\" data-gtm-yt-inspected-10720717_22=\"true\" frameborder=\"0\" height=\"270\" id=\"ytPlayer-DRYQDMUVgYE\" src=\"https://www.youtube.com/embed/DRYQDMUVgYE?autoplay=1&amp;modestbranding=1&amp;rel=0&amp;enablejsapi=1&amp;origin=https://crossfit.com\" title=\"Youtube video player\" width=\"480\"></iframe>},\n",
       " {'The Dumbbell Power Snatch': <iframe allow=\"autoplay\" allowfullscreen=\"\" data-gtm-yt-inspected-10720717_22=\"true\" frameborder=\"0\" height=\"270\" id=\"ytPlayer-3mlhF3dptAo\" src=\"https://www.youtube.com/embed/3mlhF3dptAo?autoplay=1&amp;modestbranding=1&amp;rel=0&amp;enablejsapi=1&amp;origin=https://crossfit.com\" title=\"Youtube video player\" width=\"480\"></iframe>},\n",
       " {'The Chest-to-Wall Handstand Push-Up': <iframe allow=\"autoplay\" allowfullscreen=\"\" data-gtm-yt-inspected-10720717_22=\"true\" frameborder=\"0\" height=\"270\" id=\"ytPlayer-lkPPVyExFpU\" src=\"https://www.youtube.com/embed/lkPPVyExFpU?autoplay=1&amp;modestbranding=1&amp;rel=0&amp;enablejsapi=1&amp;origin=https://crossfit.com\" title=\"Youtube video player\" width=\"480\"></iframe>},\n",
       " {'Burpee Modification': <iframe allow=\"autoplay\" allowfullscreen=\"\" data-gtm-yt-inspected-10720717_22=\"true\" frameborder=\"0\" height=\"270\" id=\"ytPlayer-Pw_3IyaTZGo\" src=\"https://www.youtube.com/embed/Pw_3IyaTZGo?autoplay=1&amp;modestbranding=1&amp;rel=0&amp;enablejsapi=1&amp;origin=https://crossfit.com\" title=\"Youtube video player\" width=\"480\"></iframe>},\n",
       " {'The Dumbbell Push Press': <iframe allow=\"autoplay\" allowfullscreen=\"\" data-gtm-yt-inspected-10720717_22=\"true\" frameborder=\"0\" height=\"270\" id=\"ytPlayer-4tCaD42ghlc\" src=\"https://www.youtube.com/embed/4tCaD42ghlc?autoplay=1&amp;modestbranding=1&amp;rel=0&amp;enablejsapi=1&amp;origin=https://crossfit.com\" title=\"Youtube video player\" width=\"480\"></iframe>},\n",
       " {'The Shoot-Through': <iframe allow=\"autoplay\" allowfullscreen=\"\" data-gtm-yt-inspected-10720717_22=\"true\" frameborder=\"0\" height=\"270\" id=\"ytPlayer-sZ9fP4iOmFs\" src=\"https://www.youtube.com/embed/sZ9fP4iOmFs?autoplay=1&amp;modestbranding=1&amp;rel=0&amp;enablejsapi=1&amp;origin=https://crossfit.com\" title=\"Youtube video player\" width=\"480\"></iframe>},\n",
       " {'The Dumbbell Power Clean': <iframe allow=\"autoplay\" allowfullscreen=\"\" data-gtm-yt-inspected-10720717_22=\"true\" frameborder=\"0\" height=\"270\" id=\"ytPlayer-viWI2rEt-HU\" src=\"https://www.youtube.com/embed/viWI2rEt-HU?autoplay=1&amp;modestbranding=1&amp;rel=0&amp;enablejsapi=1&amp;origin=https://crossfit.com\" title=\"Youtube video player\" width=\"480\"></iframe>},\n",
       " {'The Freestanding Handstand Push-Up': <iframe allow=\"autoplay\" allowfullscreen=\"\" data-gtm-yt-inspected-10720717_22=\"true\" frameborder=\"0\" height=\"270\" id=\"ytPlayer-aAErmRDDJKY\" src=\"https://www.youtube.com/embed/aAErmRDDJKY?autoplay=1&amp;modestbranding=1&amp;rel=0&amp;enablejsapi=1&amp;origin=https://crossfit.com\" title=\"Youtube video player\" width=\"480\"></iframe>},\n",
       " {'Toes-to-Bar Modification': <iframe allow=\"autoplay\" allowfullscreen=\"\" data-gtm-yt-inspected-10720717_22=\"true\" frameborder=\"0\" height=\"270\" id=\"ytPlayer-fv92xyVowhY\" src=\"https://www.youtube.com/embed/fv92xyVowhY?autoplay=1&amp;modestbranding=1&amp;rel=0&amp;enablejsapi=1&amp;origin=https://crossfit.com\" title=\"Youtube video player\" width=\"480\"></iframe>},\n",
       " {'Swing to Backward Roll to Support': <iframe allow=\"autoplay\" allowfullscreen=\"\" data-gtm-yt-inspected-10720717_22=\"true\" frameborder=\"0\" height=\"270\" id=\"ytPlayer-nwpEUd_Yc_E\" src=\"https://www.youtube.com/embed/nwpEUd_Yc_E?autoplay=1&amp;modestbranding=1&amp;rel=0&amp;enablejsapi=1&amp;origin=https://crossfit.com\" title=\"Youtube video player\" width=\"480\"></iframe>},\n",
       " {'The Sots Press': <iframe allow=\"autoplay\" allowfullscreen=\"\" data-gtm-yt-inspected-10720717_22=\"true\" frameborder=\"0\" height=\"270\" id=\"ytPlayer-eJ9MLnNV6FY\" src=\"https://www.youtube.com/embed/eJ9MLnNV6FY?autoplay=1&amp;modestbranding=1&amp;rel=0&amp;enablejsapi=1&amp;origin=https://crossfit.com\" title=\"Youtube video player\" width=\"480\"></iframe>},\n",
       " {'Muscle-Up Modification': <iframe allow=\"autoplay\" allowfullscreen=\"\" data-gtm-yt-inspected-10720717_22=\"true\" frameborder=\"0\" height=\"270\" id=\"ytPlayer-MN8_0gfsLqk\" src=\"https://www.youtube.com/embed/MN8_0gfsLqk?autoplay=1&amp;modestbranding=1&amp;rel=0&amp;enablejsapi=1&amp;origin=https://crossfit.com\" title=\"Youtube video player\" width=\"480\"></iframe>},\n",
       " {'The Kipping Deficit Handstand Push-Up': <iframe allow=\"autoplay\" allowfullscreen=\"\" data-gtm-yt-inspected-10720717_22=\"true\" frameborder=\"0\" height=\"270\" id=\"ytPlayer-DJA1t6Fp5WE\" src=\"https://www.youtube.com/embed/DJA1t6Fp5WE?autoplay=1&amp;modestbranding=1&amp;rel=0&amp;enablejsapi=1&amp;origin=https://crossfit.com\" title=\"Youtube video player\" width=\"480\"></iframe>},\n",
       " {'The Dumbbell Clean': <iframe allow=\"autoplay\" allowfullscreen=\"\" data-gtm-yt-inspected-10720717_22=\"true\" frameborder=\"0\" height=\"270\" id=\"ytPlayer-SYxObzJ3gn0\" src=\"https://www.youtube.com/embed/SYxObzJ3gn0?autoplay=1&amp;modestbranding=1&amp;rel=0&amp;enablejsapi=1&amp;origin=https://crossfit.com\" title=\"Youtube video player\" width=\"480\"></iframe>},\n",
       " {'The Clean and Jerk': <iframe allow=\"autoplay\" allowfullscreen=\"\" data-gtm-yt-inspected-10720717_22=\"true\" frameborder=\"0\" height=\"270\" id=\"ytPlayer-PjY1rH4_MOA\" src=\"https://www.youtube.com/embed/PjY1rH4_MOA?autoplay=1&amp;modestbranding=1&amp;rel=0&amp;enablejsapi=1&amp;origin=https://crossfit.com\" title=\"Youtube video player\" width=\"480\"></iframe>},\n",
       " {'The Burpee Box Jump-Over': <iframe allow=\"autoplay\" allowfullscreen=\"\" data-gtm-yt-inspected-10720717_22=\"true\" frameborder=\"0\" height=\"270\" id=\"ytPlayer-GLktGkmcvWE\" src=\"https://www.youtube.com/embed/GLktGkmcvWE?autoplay=1&amp;modestbranding=1&amp;rel=0&amp;enablejsapi=1&amp;origin=https://crossfit.com\" title=\"Youtube video player\" width=\"480\"></iframe>},\n",
       " {'The Hanging L-Sit': <iframe allow=\"autoplay\" allowfullscreen=\"\" data-gtm-yt-inspected-10720717_22=\"true\" frameborder=\"0\" height=\"270\" id=\"ytPlayer-WHi1bvZLwlw\" src=\"https://www.youtube.com/embed/WHi1bvZLwlw?autoplay=1&amp;modestbranding=1&amp;rel=0&amp;enablejsapi=1&amp;origin=https://crossfit.com\" title=\"Youtube video player\" width=\"480\"></iframe>},\n",
       " {'The Strict Bar Muscle-Up': <iframe allow=\"autoplay\" allowfullscreen=\"\" data-gtm-yt-inspected-10720717_22=\"true\" frameborder=\"0\" height=\"270\" id=\"ytPlayer-o69WaY_7k2c\" src=\"https://www.youtube.com/embed/o69WaY_7k2c?autoplay=1&amp;modestbranding=1&amp;rel=0&amp;enablejsapi=1&amp;origin=https://crossfit.com\" title=\"Youtube video player\" width=\"480\"></iframe>},\n",
       " {'Pull-Up Modification': <iframe allow=\"autoplay\" allowfullscreen=\"\" data-gtm-yt-inspected-10720717_22=\"true\" frameborder=\"0\" height=\"270\" id=\"ytPlayer-PN1hy4Gk13c\" src=\"https://www.youtube.com/embed/PN1hy4Gk13c?autoplay=1&amp;modestbranding=1&amp;rel=0&amp;enablejsapi=1&amp;origin=https://crossfit.com\" title=\"Youtube video player\" width=\"480\"></iframe>},\n",
       " {'Handstand Push-Up Variations': <iframe allow=\"autoplay\" allowfullscreen=\"\" data-gtm-yt-inspected-10720717_22=\"true\" frameborder=\"0\" height=\"270\" id=\"ytPlayer-qbRbM6d5ddM\" src=\"https://www.youtube.com/embed/qbRbM6d5ddM?autoplay=1&amp;modestbranding=1&amp;rel=0&amp;enablejsapi=1&amp;origin=https://crossfit.com\" title=\"Youtube video player\" width=\"480\"></iframe>},\n",
       " {'Single-Under Modification': <iframe allow=\"autoplay\" allowfullscreen=\"\" data-gtm-yt-inspected-10720717_22=\"true\" frameborder=\"0\" height=\"270\" id=\"ytPlayer-VhvxTTR5hhw\" src=\"https://www.youtube.com/embed/VhvxTTR5hhw?autoplay=1&amp;modestbranding=1&amp;rel=0&amp;enablejsapi=1&amp;origin=https://crossfit.com\" title=\"Youtube video player\" width=\"480\"></iframe>},\n",
       " {'The Strict Knees-to-Elbows': <iframe allow=\"autoplay\" allowfullscreen=\"\" data-gtm-yt-inspected-10720717_22=\"true\" frameborder=\"0\" height=\"270\" id=\"ytPlayer-_DUlB4YpZRw\" src=\"https://www.youtube.com/embed/_DUlB4YpZRw?autoplay=1&amp;modestbranding=1&amp;rel=0&amp;enablejsapi=1&amp;origin=https://crossfit.com\" title=\"Youtube video player\" width=\"480\"></iframe>},\n",
       " {'Ring Dip Modification': <iframe allow=\"autoplay\" allowfullscreen=\"\" data-gtm-yt-inspected-10720717_22=\"true\" frameborder=\"0\" height=\"270\" id=\"ytPlayer-npnDSS-iVqw\" src=\"https://www.youtube.com/embed/npnDSS-iVqw?autoplay=1&amp;modestbranding=1&amp;rel=0&amp;enablejsapi=1&amp;origin=https://crossfit.com\" title=\"Youtube video player\" width=\"480\"></iframe>},\n",
       " {'The Hang Snatch': <iframe allow=\"autoplay\" allowfullscreen=\"\" data-gtm-yt-inspected-10720717_22=\"true\" frameborder=\"0\" height=\"270\" id=\"ytPlayer-IucshEToDyM\" src=\"https://www.youtube.com/embed/IucshEToDyM?autoplay=1&amp;modestbranding=1&amp;rel=0&amp;enablejsapi=1&amp;origin=https://crossfit.com\" title=\"Youtube video player\" width=\"480\"></iframe>},\n",
       " {'The Split Clean': <iframe allow=\"autoplay\" allowfullscreen=\"\" data-gtm-yt-inspected-10720717_22=\"true\" frameborder=\"0\" height=\"270\" id=\"ytPlayer-a5CR3Bi2Gc8\" src=\"https://www.youtube.com/embed/a5CR3Bi2Gc8?autoplay=1&amp;modestbranding=1&amp;rel=0&amp;enablejsapi=1&amp;origin=https://crossfit.com\" title=\"Youtube video player\" width=\"480\"></iframe>},\n",
       " {'The Box Step-Up': <iframe allow=\"autoplay\" allowfullscreen=\"\" data-gtm-yt-inspected-10720717_22=\"true\" frameborder=\"0\" height=\"270\" id=\"ytPlayer-5qjqDHOUh-A\" src=\"https://www.youtube.com/embed/5qjqDHOUh-A?autoplay=1&amp;modestbranding=1&amp;rel=0&amp;enablejsapi=1&amp;origin=https://crossfit.com\" title=\"Youtube video player\" width=\"480\"></iframe>},\n",
       " {'The Dumbbell Front Squat': <iframe allow=\"autoplay\" allowfullscreen=\"\" data-gtm-yt-inspected-10720717_22=\"true\" frameborder=\"0\" height=\"270\" id=\"ytPlayer-B86Zj72LwzA\" src=\"https://www.youtube.com/embed/B86Zj72LwzA?autoplay=1&amp;modestbranding=1&amp;rel=0&amp;enablejsapi=1&amp;origin=https://crossfit.com\" title=\"Youtube video player\" width=\"480\"></iframe>},\n",
       " {'The Strict Toes-To-Bar': <iframe allow=\"autoplay\" allowfullscreen=\"\" data-gtm-yt-inspected-10720717_22=\"true\" frameborder=\"0\" height=\"270\" id=\"ytPlayer-xX9Hzi7Onnw\" src=\"https://www.youtube.com/embed/xX9Hzi7Onnw?autoplay=1&amp;modestbranding=1&amp;rel=0&amp;enablejsapi=1&amp;origin=https://crossfit.com\" title=\"Youtube video player\" width=\"480\"></iframe>},\n",
       " {'The Hang Clean': <iframe allow=\"autoplay\" allowfullscreen=\"\" data-gtm-yt-inspected-10720717_22=\"true\" frameborder=\"0\" height=\"270\" id=\"ytPlayer-DaKC_BEN5bk\" src=\"https://www.youtube.com/embed/DaKC_BEN5bk?autoplay=1&amp;modestbranding=1&amp;rel=0&amp;enablejsapi=1&amp;origin=https://crossfit.com\" title=\"Youtube video player\" width=\"480\"></iframe>},\n",
       " {'The Dumbbell Push Jerk': <iframe allow=\"autoplay\" allowfullscreen=\"\" data-gtm-yt-inspected-10720717_22=\"true\" frameborder=\"0\" height=\"270\" id=\"ytPlayer-rnN3pYswScE\" src=\"https://www.youtube.com/embed/rnN3pYswScE?autoplay=1&amp;modestbranding=1&amp;rel=0&amp;enablejsapi=1&amp;origin=https://crossfit.com\" title=\"Youtube video player\" width=\"480\"></iframe>},\n",
       " {'The Dip': <iframe allow=\"autoplay\" allowfullscreen=\"\" data-gtm-yt-inspected-10720717_22=\"true\" frameborder=\"0\" height=\"270\" id=\"ytPlayer-o2qX3Zb5mvg\" src=\"https://www.youtube.com/embed/o2qX3Zb5mvg?autoplay=1&amp;modestbranding=1&amp;rel=0&amp;enablejsapi=1&amp;origin=https://crossfit.com\" title=\"Youtube video player\" width=\"480\"></iframe>},\n",
       " {'The Dumbbell Deadlift': <iframe allow=\"autoplay\" allowfullscreen=\"\" data-gtm-yt-inspected-10720717_22=\"true\" frameborder=\"0\" height=\"270\" id=\"ytPlayer-JNpUNRPQkAk\" src=\"https://www.youtube.com/embed/JNpUNRPQkAk?autoplay=1&amp;modestbranding=1&amp;rel=0&amp;enablejsapi=1&amp;origin=https://crossfit.com\" title=\"Youtube video player\" width=\"480\"></iframe>},\n",
       " {'The Split Snatch': <iframe allow=\"autoplay\" allowfullscreen=\"\" data-gtm-yt-inspected-10720717_22=\"true\" frameborder=\"0\" height=\"270\" id=\"ytPlayer-VFdCGK8yk-8\" src=\"https://www.youtube.com/embed/VFdCGK8yk-8?autoplay=1&amp;modestbranding=1&amp;rel=0&amp;enablejsapi=1&amp;origin=https://crossfit.com\" title=\"Youtube video player\" width=\"480\"></iframe>},\n",
       " {'The Pull-Over': <iframe allow=\"autoplay\" allowfullscreen=\"\" data-gtm-yt-inspected-10720717_22=\"true\" frameborder=\"0\" height=\"270\" id=\"ytPlayer-faJDYEZmueM\" src=\"https://www.youtube.com/embed/faJDYEZmueM?autoplay=1&amp;modestbranding=1&amp;rel=0&amp;enablejsapi=1&amp;origin=https://crossfit.com\" title=\"Youtube video player\" width=\"480\"></iframe>},\n",
       " {'The Sumo Deadlift': <iframe allow=\"autoplay\" allowfullscreen=\"\" data-gtm-yt-inspected-10720717_22=\"true\" frameborder=\"0\" height=\"270\" id=\"ytPlayer-ENEg9UF7z7M\" src=\"https://www.youtube.com/embed/ENEg9UF7z7M?autoplay=1&amp;modestbranding=1&amp;rel=0&amp;enablejsapi=1&amp;origin=https://crossfit.com\" title=\"Youtube video player\" width=\"480\"></iframe>},\n",
       " {'Ring Row Progression': <iframe allow=\"autoplay\" allowfullscreen=\"\" data-gtm-yt-inspected-10720717_22=\"true\" frameborder=\"0\" height=\"270\" id=\"ytPlayer-zuzh8Ze5CRo\" src=\"https://www.youtube.com/embed/zuzh8Ze5CRo?autoplay=1&amp;modestbranding=1&amp;rel=0&amp;enablejsapi=1&amp;origin=https://crossfit.com\" title=\"Youtube video player\" width=\"480\"></iframe>},\n",
       " {'Step-Up Progression': <iframe allow=\"autoplay\" allowfullscreen=\"\" data-gtm-yt-inspected-10720717_22=\"true\" frameborder=\"0\" height=\"270\" id=\"ytPlayer-h7Gx1j4A8fA\" src=\"https://www.youtube.com/embed/h7Gx1j4A8fA?autoplay=1&amp;modestbranding=1&amp;rel=0&amp;enablejsapi=1&amp;origin=https://crossfit.com\" title=\"Youtube video player\" width=\"480\"></iframe>},\n",
       " {'The Kettlebell Swing': <iframe allow=\"autoplay\" allowfullscreen=\"\" data-gtm-yt-inspected-10720717_22=\"true\" frameborder=\"0\" height=\"270\" id=\"ytPlayer-mKDIuUbH94Q\" src=\"https://www.youtube.com/embed/mKDIuUbH94Q?autoplay=1&amp;modestbranding=1&amp;rel=0&amp;enablejsapi=1&amp;origin=https://crossfit.com\" title=\"Youtube video player\" width=\"480\"></iframe>},\n",
       " {'Squat Clinic': <iframe height=\"0\" src=\"https://www.googletagmanager.com/ns.html?id=GTM-K98WS95\" style=\"display:none;visibility:hidden\" width=\"0\"></iframe>},\n",
       " {'Air Squat Progression': <iframe allow=\"autoplay\" allowfullscreen=\"\" data-gtm-yt-inspected-10720717_22=\"true\" frameborder=\"0\" height=\"270\" id=\"ytPlayer-9GolSzix7IE\" src=\"https://www.youtube.com/embed/9GolSzix7IE?autoplay=1&amp;modestbranding=1&amp;rel=0&amp;enablejsapi=1&amp;origin=https://crossfit.com\" title=\"Youtube video player\" width=\"480\"></iframe>},\n",
       " {'The Split Jerk': <iframe allow=\"autoplay\" allowfullscreen=\"\" data-gtm-yt-inspected-10720717_22=\"true\" frameborder=\"0\" height=\"270\" id=\"ytPlayer-GUDkOtraHHY\" src=\"https://www.youtube.com/embed/GUDkOtraHHY?autoplay=1&amp;modestbranding=1&amp;rel=0&amp;enablejsapi=1&amp;origin=https://crossfit.com\" title=\"Youtube video player\" width=\"480\"></iframe>},\n",
       " {'The Kettlebell Snatch': <iframe allow=\"autoplay\" allowfullscreen=\"\" data-gtm-yt-inspected-10720717_22=\"true\" frameborder=\"0\" height=\"270\" id=\"ytPlayer-Pm-b2XFeABA\" src=\"https://www.youtube.com/embed/Pm-b2XFeABA?autoplay=1&amp;modestbranding=1&amp;rel=0&amp;enablejsapi=1&amp;origin=https://crossfit.com\" title=\"Youtube video player\" width=\"480\"></iframe>},\n",
       " {'Training the GHD Sit-Up': <iframe height=\"0\" src=\"https://www.googletagmanager.com/ns.html?id=GTM-K98WS95\" style=\"display:none;visibility:hidden\" width=\"0\"></iframe>},\n",
       " {'The Wall Walk': <iframe allow=\"autoplay\" allowfullscreen=\"\" data-gtm-yt-inspected-10720717_22=\"true\" frameborder=\"0\" height=\"270\" id=\"ytPlayer-NK_OcHEm8yM\" src=\"https://www.youtube.com/embed/NK_OcHEm8yM?autoplay=1&amp;modestbranding=1&amp;rel=0&amp;enablejsapi=1&amp;origin=https://crossfit.com\" title=\"Youtube video player\" width=\"480\"></iframe>},\n",
       " {'The Hang Power Snatch': <iframe allow=\"autoplay\" allowfullscreen=\"\" data-gtm-yt-inspected-10720717_22=\"true\" frameborder=\"0\" height=\"270\" id=\"ytPlayer--mLzQdVAwlw\" src=\"https://www.youtube.com/embed/-mLzQdVAwlw?autoplay=1&amp;modestbranding=1&amp;rel=0&amp;enablejsapi=1&amp;origin=https://crossfit.com\" title=\"Youtube video player\" width=\"480\"></iframe>},\n",
       " {'The Dumbbell Thruster': <iframe allow=\"autoplay\" allowfullscreen=\"\" data-gtm-yt-inspected-10720717_22=\"true\" frameborder=\"0\" height=\"270\" id=\"ytPlayer-u3wKkZjE8QM\" src=\"https://www.youtube.com/embed/u3wKkZjE8QM?autoplay=1&amp;modestbranding=1&amp;rel=0&amp;enablejsapi=1&amp;origin=https://crossfit.com\" title=\"Youtube video player\" width=\"480\"></iframe>},\n",
       " {'The Kipping Muscle-Up': <iframe allow=\"autoplay\" allowfullscreen=\"\" data-gtm-yt-inspected-10720717_22=\"true\" frameborder=\"0\" height=\"270\" id=\"ytPlayer-G8W0BhzrWcs\" src=\"https://www.youtube.com/embed/G8W0BhzrWcs?autoplay=1&amp;modestbranding=1&amp;rel=0&amp;enablejsapi=1&amp;origin=https://crossfit.com\" title=\"Youtube video player\" width=\"480\"></iframe>},\n",
       " {'The Muscle-Up': <iframe height=\"0\" src=\"https://www.googletagmanager.com/ns.html?id=GTM-K98WS95\" style=\"display:none;visibility:hidden\" width=\"0\"></iframe>},\n",
       " {'The Dumbbell Hang Clean': <iframe allow=\"autoplay\" allowfullscreen=\"\" data-gtm-yt-inspected-10720717_22=\"true\" frameborder=\"0\" height=\"270\" id=\"ytPlayer-8r44xv_Aqbw\" src=\"https://www.youtube.com/embed/8r44xv_Aqbw?autoplay=1&amp;modestbranding=1&amp;rel=0&amp;enablejsapi=1&amp;origin=https://crossfit.com\" title=\"Youtube video player\" width=\"480\"></iframe>},\n",
       " {'The Hang Power Clean': <iframe allow=\"autoplay\" allowfullscreen=\"\" data-gtm-yt-inspected-10720717_22=\"true\" frameborder=\"0\" height=\"270\" id=\"ytPlayer-0aP3tgKZcHQ\" src=\"https://www.youtube.com/embed/0aP3tgKZcHQ?autoplay=1&amp;modestbranding=1&amp;rel=0&amp;enablejsapi=1&amp;origin=https://crossfit.com\" title=\"Youtube video player\" width=\"480\"></iframe>},\n",
       " {'The Box Jump': <iframe allow=\"autoplay\" allowfullscreen=\"\" data-gtm-yt-inspected-10720717_22=\"true\" frameborder=\"0\" height=\"270\" id=\"ytPlayer-NBY9-kTuHEk\" src=\"https://www.youtube.com/embed/NBY9-kTuHEk?autoplay=1&amp;modestbranding=1&amp;rel=0&amp;enablejsapi=1&amp;origin=https://crossfit.com\" title=\"Youtube video player\" width=\"480\"></iframe>},\n",
       " {'Presses To Handstand': <iframe height=\"0\" src=\"https://www.googletagmanager.com/ns.html?id=GTM-K98WS95\" style=\"display:none;visibility:hidden\" width=\"0\"></iframe>},\n",
       " {'Modified Rope Climb': <iframe allow=\"autoplay\" allowfullscreen=\"\" data-gtm-yt-inspected-10720717_22=\"true\" frameborder=\"0\" height=\"270\" id=\"ytPlayer-BsDRv1fiXIY\" src=\"https://www.youtube.com/embed/BsDRv1fiXIY?autoplay=1&amp;modestbranding=1&amp;rel=0&amp;enablejsapi=1&amp;origin=https://crossfit.com\" title=\"Youtube video player\" width=\"480\"></iframe>},\n",
       " {'The AbMat Sit-Up': <iframe allow=\"autoplay\" allowfullscreen=\"\" data-gtm-yt-inspected-10720717_22=\"true\" frameborder=\"0\" height=\"270\" id=\"ytPlayer-VIZX2Ru9qU8\" src=\"https://www.youtube.com/embed/VIZX2Ru9qU8?autoplay=1&amp;modestbranding=1&amp;rel=0&amp;enablejsapi=1&amp;origin=https://crossfit.com\" title=\"Youtube video player\" width=\"480\"></iframe>},\n",
       " {'The Deadlift': <iframe height=\"0\" src=\"https://www.googletagmanager.com/ns.html?id=GTM-K98WS95\" style=\"display:none;visibility:hidden\" width=\"0\"></iframe>},\n",
       " {'The Burpee': <iframe allow=\"autoplay\" allowfullscreen=\"\" data-gtm-yt-inspected-10720717_22=\"true\" frameborder=\"0\" height=\"270\" id=\"ytPlayer-auBLPXO8Fww\" src=\"https://www.youtube.com/embed/auBLPXO8Fww?autoplay=1&amp;modestbranding=1&amp;rel=0&amp;enablejsapi=1&amp;origin=https://crossfit.com\" title=\"Youtube video player\" width=\"480\"></iframe>},\n",
       " {'The Power Snatch': <iframe allow=\"autoplay\" allowfullscreen=\"\" data-gtm-yt-inspected-10720717_22=\"true\" frameborder=\"0\" height=\"270\" id=\"ytPlayer-TL8SMp7RdXQ\" src=\"https://www.youtube.com/embed/TL8SMp7RdXQ?autoplay=1&amp;modestbranding=1&amp;rel=0&amp;enablejsapi=1&amp;origin=https://crossfit.com\" title=\"Youtube video player\" width=\"480\"></iframe>},\n",
       " {'The Clean': <iframe allow=\"autoplay\" allowfullscreen=\"\" data-gtm-yt-inspected-10720717_22=\"true\" frameborder=\"0\" height=\"270\" id=\"ytPlayer-Ty14ogq_Vok\" src=\"https://www.youtube.com/embed/Ty14ogq_Vok?autoplay=1&amp;modestbranding=1&amp;rel=0&amp;enablejsapi=1&amp;origin=https://crossfit.com\" title=\"Youtube video player\" width=\"480\"></iframe>},\n",
       " {'The Snatch': <iframe allow=\"autoplay\" allowfullscreen=\"\" data-gtm-yt-inspected-10720717_22=\"true\" frameborder=\"0\" height=\"270\" id=\"ytPlayer-GhxhiehJcQY\" src=\"https://www.youtube.com/embed/GhxhiehJcQY?autoplay=1&amp;modestbranding=1&amp;rel=0&amp;enablejsapi=1&amp;origin=https://crossfit.com\" title=\"Youtube video player\" width=\"480\"></iframe>},\n",
       " {'The Dumbbell Overhead Squat': <iframe allow=\"autoplay\" allowfullscreen=\"\" data-gtm-yt-inspected-10720717_22=\"true\" frameborder=\"0\" height=\"270\" id=\"ytPlayer-azumEfnk-GI\" src=\"https://www.youtube.com/embed/azumEfnk-GI?autoplay=1&amp;modestbranding=1&amp;rel=0&amp;enablejsapi=1&amp;origin=https://crossfit.com\" title=\"Youtube video player\" width=\"480\"></iframe>},\n",
       " {'The GHD Sit-Up': <iframe allow=\"autoplay\" allowfullscreen=\"\" data-gtm-yt-inspected-10720717_22=\"true\" frameborder=\"0\" height=\"270\" id=\"ytPlayer-oFwt7WfnPcc\" src=\"https://www.youtube.com/embed/oFwt7WfnPcc?autoplay=1&amp;modestbranding=1&amp;rel=0&amp;enablejsapi=1&amp;origin=https://crossfit.com\" title=\"Youtube video player\" width=\"480\"></iframe>},\n",
       " {'The Wall-Ball Shot': <iframe allow=\"autoplay\" allowfullscreen=\"\" data-gtm-yt-inspected-10720717_22=\"true\" frameborder=\"0\" height=\"270\" id=\"ytPlayer-EqjGKsiIMCE\" src=\"https://www.youtube.com/embed/EqjGKsiIMCE?autoplay=1&amp;modestbranding=1&amp;rel=0&amp;enablejsapi=1&amp;origin=https://crossfit.com\" title=\"Youtube video player\" width=\"480\"></iframe>},\n",
       " {'Handstand Pirouettes': <iframe allow=\"autoplay\" allowfullscreen=\"\" data-gtm-yt-inspected-10720717_22=\"true\" frameborder=\"0\" height=\"270\" id=\"ytPlayer-tTnvKzRLCUk\" src=\"https://www.youtube.com/embed/tTnvKzRLCUk?autoplay=1&amp;modestbranding=1&amp;rel=0&amp;enablejsapi=1&amp;origin=https://crossfit.com\" title=\"Youtube video player\" width=\"480\"></iframe>},\n",
       " {'The Inverted Burpee': <iframe allow=\"autoplay\" allowfullscreen=\"\" data-gtm-yt-inspected-10720717_22=\"true\" frameborder=\"0\" height=\"270\" id=\"ytPlayer-M6_nkTKhaFY\" src=\"https://www.youtube.com/embed/M6_nkTKhaFY?autoplay=1&amp;modestbranding=1&amp;rel=0&amp;enablejsapi=1&amp;origin=https://crossfit.com\" title=\"Youtube video player\" width=\"480\"></iframe>},\n",
       " {'Candlestick Conditioning Drills': <iframe allow=\"autoplay\" allowfullscreen=\"\" data-gtm-yt-inspected-10720717_22=\"true\" frameborder=\"0\" height=\"270\" id=\"ytPlayer-NLek0E7rqrk\" src=\"https://www.youtube.com/embed/NLek0E7rqrk?autoplay=1&amp;modestbranding=1&amp;rel=0&amp;enablejsapi=1&amp;origin=https://crossfit.com\" title=\"Youtube video player\" width=\"480\"></iframe>},\n",
       " {'The Ring Row': <iframe allow=\"autoplay\" allowfullscreen=\"\" data-gtm-yt-inspected-10720717_22=\"true\" frameborder=\"0\" height=\"270\" id=\"ytPlayer-sEAOZc77wk8\" src=\"https://www.youtube.com/embed/sEAOZc77wk8?autoplay=1&amp;modestbranding=1&amp;rel=0&amp;enablejsapi=1&amp;origin=https://crossfit.com\" title=\"Youtube video player\" width=\"480\"></iframe>},\n",
       " {'Walking Warm-Up': <iframe allow=\"autoplay\" allowfullscreen=\"\" data-gtm-yt-inspected-10720717_22=\"true\" frameborder=\"0\" height=\"270\" id=\"ytPlayer-479IZUFFVxs\" src=\"https://www.youtube.com/embed/479IZUFFVxs?autoplay=1&amp;modestbranding=1&amp;rel=0&amp;enablejsapi=1&amp;origin=https://crossfit.com\" title=\"Youtube video player\" width=\"480\"></iframe>},\n",
       " {'Descent From Handstand Variations': <iframe allow=\"autoplay\" allowfullscreen=\"\" data-gtm-yt-inspected-10720717_22=\"true\" frameborder=\"0\" height=\"270\" id=\"ytPlayer-AbuT-IS9R0g\" src=\"https://www.youtube.com/embed/AbuT-IS9R0g?autoplay=1&amp;modestbranding=1&amp;rel=0&amp;enablejsapi=1&amp;origin=https://crossfit.com\" title=\"Youtube video player\" width=\"480\"></iframe>},\n",
       " {'The Slam Ball': <iframe allow=\"autoplay\" allowfullscreen=\"\" data-gtm-yt-inspected-10720717_22=\"true\" frameborder=\"0\" height=\"270\" id=\"ytPlayer-k9W6g9LvXDI\" src=\"https://www.youtube.com/embed/k9W6g9LvXDI?autoplay=1&amp;modestbranding=1&amp;rel=0&amp;enablejsapi=1&amp;origin=https://crossfit.com\" title=\"Youtube video player\" width=\"480\"></iframe>},\n",
       " {'The Kipping Pull-Up': <iframe allow=\"autoplay\" allowfullscreen=\"\" data-gtm-yt-inspected-10720717_22=\"true\" frameborder=\"0\" height=\"270\" id=\"ytPlayer-lzRo-4pq_AY\" src=\"https://www.youtube.com/embed/lzRo-4pq_AY?autoplay=1&amp;modestbranding=1&amp;rel=0&amp;enablejsapi=1&amp;origin=https://crossfit.com\" title=\"Youtube video player\" width=\"480\"></iframe>},\n",
       " {'The Clean & Jerk': <iframe allow=\"autoplay\" allowfullscreen=\"\" data-gtm-yt-inspected-10720717_22=\"true\" frameborder=\"0\" height=\"270\" id=\"ytPlayer-LtoksZKesMA\" src=\"https://www.youtube.com/embed/LtoksZKesMA?autoplay=1&amp;modestbranding=1&amp;rel=0&amp;enablejsapi=1&amp;origin=https://crossfit.com\" title=\"Youtube video player\" width=\"480\"></iframe>},\n",
       " {'The Clean': <iframe height=\"0\" src=\"https://www.googletagmanager.com/ns.html?id=GTM-K98WS95\" style=\"display:none;visibility:hidden\" width=\"0\"></iframe>},\n",
       " {'The Single-Leg Squat': <iframe allow=\"autoplay\" allowfullscreen=\"\" data-gtm-yt-inspected-10720717_22=\"true\" frameborder=\"0\" height=\"270\" id=\"ytPlayer-keSzg7MaoVQ\" src=\"https://www.youtube.com/embed/keSzg7MaoVQ?autoplay=1&amp;modestbranding=1&amp;rel=0&amp;enablejsapi=1&amp;origin=https://crossfit.com\" title=\"Youtube video player\" width=\"480\"></iframe>},\n",
       " {'The Dumbbell Squat Snatch': <iframe allow=\"autoplay\" allowfullscreen=\"\" data-gtm-yt-inspected-10720717_22=\"true\" frameborder=\"0\" height=\"270\" id=\"ytPlayer-etK3OPjM3S4\" src=\"https://www.youtube.com/embed/etK3OPjM3S4?autoplay=1&amp;modestbranding=1&amp;rel=0&amp;enablejsapi=1&amp;origin=https://crossfit.com\" title=\"Youtube video player\" width=\"480\"></iframe>},\n",
       " {'The Handstand Walk': <iframe allow=\"autoplay\" allowfullscreen=\"\" data-gtm-yt-inspected-10720717_22=\"true\" frameborder=\"0\" height=\"270\" id=\"ytPlayer-FdgJ9jZIT-Q\" src=\"https://www.youtube.com/embed/FdgJ9jZIT-Q?autoplay=1&amp;modestbranding=1&amp;rel=0&amp;enablejsapi=1&amp;origin=https://crossfit.com\" title=\"Youtube video player\" width=\"480\"></iframe>},\n",
       " {'The Dumbbell Farmers Carry': <iframe allow=\"autoplay\" allowfullscreen=\"\" data-gtm-yt-inspected-10720717_22=\"true\" frameborder=\"0\" height=\"270\" id=\"ytPlayer-p5MNNosenJc\" src=\"https://www.youtube.com/embed/p5MNNosenJc?autoplay=1&amp;modestbranding=1&amp;rel=0&amp;enablejsapi=1&amp;origin=https://crossfit.com\" title=\"Youtube video player\" width=\"480\"></iframe>},\n",
       " {'The Bench Press': <iframe allow=\"autoplay\" allowfullscreen=\"\" data-gtm-yt-inspected-10720717_22=\"true\" frameborder=\"0\" height=\"270\" id=\"ytPlayer-SCVCLChPQFY\" src=\"https://www.youtube.com/embed/SCVCLChPQFY?autoplay=1&amp;modestbranding=1&amp;rel=0&amp;enablejsapi=1&amp;origin=https://crossfit.com\" title=\"Youtube video player\" width=\"480\"></iframe>},\n",
       " {'The Good Morning': <iframe allow=\"autoplay\" allowfullscreen=\"\" data-gtm-yt-inspected-10720717_22=\"true\" frameborder=\"0\" height=\"270\" id=\"ytPlayer-KxYxHr1lkx4\" src=\"https://www.youtube.com/embed/KxYxHr1lkx4?autoplay=1&amp;modestbranding=1&amp;rel=0&amp;enablejsapi=1&amp;origin=https://crossfit.com\" title=\"Youtube video player\" width=\"480\"></iframe>},\n",
       " {'The Strict Muscle-Up': <iframe allow=\"autoplay\" allowfullscreen=\"\" data-gtm-yt-inspected-10720717_22=\"true\" frameborder=\"0\" height=\"270\" id=\"ytPlayer-vJTJFc2wmk4\" src=\"https://www.youtube.com/embed/vJTJFc2wmk4?autoplay=1&amp;modestbranding=1&amp;rel=0&amp;enablejsapi=1&amp;origin=https://crossfit.com\" title=\"Youtube video player\" width=\"480\"></iframe>},\n",
       " {'The Ring Dip': <iframe allow=\"autoplay\" allowfullscreen=\"\" data-gtm-yt-inspected-10720717_22=\"true\" frameborder=\"0\" height=\"270\" id=\"ytPlayer-EznLCDBAPIU\" src=\"https://www.youtube.com/embed/EznLCDBAPIU?autoplay=1&amp;modestbranding=1&amp;rel=0&amp;enablejsapi=1&amp;origin=https://crossfit.com\" title=\"Youtube video player\" width=\"480\"></iframe>},\n",
       " {'The Back Squat': <iframe allow=\"autoplay\" allowfullscreen=\"\" data-gtm-yt-inspected-10720717_22=\"true\" frameborder=\"0\" height=\"270\" id=\"ytPlayer-QmZAiBqPvZw\" src=\"https://www.youtube.com/embed/QmZAiBqPvZw?autoplay=1&amp;modestbranding=1&amp;rel=0&amp;enablejsapi=1&amp;origin=https://crossfit.com\" title=\"Youtube video player\" width=\"480\"></iframe>},\n",
       " {'Plank Variations': <iframe allow=\"autoplay\" allowfullscreen=\"\" data-gtm-yt-inspected-10720717_22=\"true\" frameborder=\"0\" height=\"270\" id=\"ytPlayer-Og6zTet9Mdg\" src=\"https://www.youtube.com/embed/Og6zTet9Mdg?autoplay=1&amp;modestbranding=1&amp;rel=0&amp;enablejsapi=1&amp;origin=https://crossfit.com\" title=\"Youtube video player\" width=\"480\"></iframe>},\n",
       " {'The Dumbbell Turkish Get-Up': <iframe allow=\"autoplay\" allowfullscreen=\"\" data-gtm-yt-inspected-10720717_22=\"true\" frameborder=\"0\" height=\"270\" id=\"ytPlayer-saYKvqSscuY\" src=\"https://www.youtube.com/embed/saYKvqSscuY?autoplay=1&amp;modestbranding=1&amp;rel=0&amp;enablejsapi=1&amp;origin=https://crossfit.com\" title=\"Youtube video player\" width=\"480\"></iframe>},\n",
       " {'The Thruster': <iframe allow=\"autoplay\" allowfullscreen=\"\" data-gtm-yt-inspected-10720717_22=\"true\" frameborder=\"0\" height=\"270\" id=\"ytPlayer-L219ltL15zk\" src=\"https://www.youtube.com/embed/L219ltL15zk?autoplay=1&amp;modestbranding=1&amp;rel=0&amp;enablejsapi=1&amp;origin=https://crossfit.com\" title=\"Youtube video player\" width=\"480\"></iframe>},\n",
       " {'The L-Sit Rope Climb': <iframe allow=\"autoplay\" allowfullscreen=\"\" data-gtm-yt-inspected-10720717_22=\"true\" frameborder=\"0\" height=\"270\" id=\"ytPlayer-Ewf8rqGRbrE\" src=\"https://www.youtube.com/embed/Ewf8rqGRbrE?autoplay=1&amp;modestbranding=1&amp;rel=0&amp;enablejsapi=1&amp;origin=https://crossfit.com\" title=\"Youtube video player\" width=\"480\"></iframe>},\n",
       " {'The L Pull-Up': <iframe allow=\"autoplay\" allowfullscreen=\"\" data-gtm-yt-inspected-10720717_22=\"true\" frameborder=\"0\" height=\"270\" id=\"ytPlayer-qeGS55RHBUU\" src=\"https://www.youtube.com/embed/qeGS55RHBUU?autoplay=1&amp;modestbranding=1&amp;rel=0&amp;enablejsapi=1&amp;origin=https://crossfit.com\" title=\"Youtube video player\" width=\"480\"></iframe>},\n",
       " {'The Walking Lunge': <iframe allow=\"autoplay\" allowfullscreen=\"\" data-gtm-yt-inspected-10720717_22=\"true\" frameborder=\"0\" height=\"270\" id=\"ytPlayer-DlhojghkaQ0\" src=\"https://www.youtube.com/embed/DlhojghkaQ0?autoplay=1&amp;modestbranding=1&amp;rel=0&amp;enablejsapi=1&amp;origin=https://crossfit.com\" title=\"Youtube video player\" width=\"480\"></iframe>},\n",
       " {'Rowing': <iframe allow=\"autoplay\" allowfullscreen=\"\" data-gtm-yt-inspected-10720717_22=\"true\" frameborder=\"0\" height=\"270\" id=\"ytPlayer-fxfhQMbATCw\" src=\"https://www.youtube.com/embed/fxfhQMbATCw?autoplay=1&amp;modestbranding=1&amp;rel=0&amp;enablejsapi=1&amp;origin=https://crossfit.com\" title=\"Youtube video player\" width=\"480\"></iframe>},\n",
       " {'The Power Clean': <iframe allow=\"autoplay\" allowfullscreen=\"\" data-gtm-yt-inspected-10720717_22=\"true\" frameborder=\"0\" height=\"270\" id=\"ytPlayer-KwYJTpQ_x5A\" src=\"https://www.youtube.com/embed/KwYJTpQ_x5A?autoplay=1&amp;modestbranding=1&amp;rel=0&amp;enablejsapi=1&amp;origin=https://crossfit.com\" title=\"Youtube video player\" width=\"480\"></iframe>},\n",
       " {'The Handstand': <iframe allow=\"autoplay\" allowfullscreen=\"\" data-gtm-yt-inspected-10720717_22=\"true\" frameborder=\"0\" height=\"270\" id=\"ytPlayer-_-9_46by2JI\" src=\"https://www.youtube.com/embed/_-9_46by2JI?autoplay=1&amp;modestbranding=1&amp;rel=0&amp;enablejsapi=1&amp;origin=https://crossfit.com\" title=\"Youtube video player\" width=\"480\"></iframe>},\n",
       " {'The Strict Handstand Push-Up': <iframe allow=\"autoplay\" allowfullscreen=\"\" data-gtm-yt-inspected-10720717_22=\"true\" frameborder=\"0\" height=\"270\" id=\"ytPlayer-0wDEO6shVjc\" src=\"https://www.youtube.com/embed/0wDEO6shVjc?autoplay=1&amp;modestbranding=1&amp;rel=0&amp;enablejsapi=1&amp;origin=https://crossfit.com\" title=\"Youtube video player\" width=\"480\"></iframe>},\n",
       " {'The Front Scale': <iframe allow=\"autoplay\" allowfullscreen=\"\" data-gtm-yt-inspected-10720717_22=\"true\" frameborder=\"0\" height=\"270\" id=\"ytPlayer-WgXaf7g0Pyo\" src=\"https://www.youtube.com/embed/WgXaf7g0Pyo?autoplay=1&amp;modestbranding=1&amp;rel=0&amp;enablejsapi=1&amp;origin=https://crossfit.com\" title=\"Youtube video player\" width=\"480\"></iframe>},\n",
       " {'The Back Scale': <iframe allow=\"autoplay\" allowfullscreen=\"\" data-gtm-yt-inspected-10720717_22=\"true\" frameborder=\"0\" height=\"270\" id=\"ytPlayer-Arh2Q_prqvw\" src=\"https://www.youtube.com/embed/Arh2Q_prqvw?autoplay=1&amp;modestbranding=1&amp;rel=0&amp;enablejsapi=1&amp;origin=https://crossfit.com\" title=\"Youtube video player\" width=\"480\"></iframe>},\n",
       " {'The Double-Under': <iframe allow=\"autoplay\" allowfullscreen=\"\" data-gtm-yt-inspected-10720717_22=\"true\" frameborder=\"0\" height=\"270\" id=\"ytPlayer-82jNjDS19lg\" src=\"https://www.youtube.com/embed/82jNjDS19lg?autoplay=1&amp;modestbranding=1&amp;rel=0&amp;enablejsapi=1&amp;origin=https://crossfit.com\" title=\"Youtube video player\" width=\"480\"></iframe>},\n",
       " {'The Push Press': <iframe allow=\"autoplay\" allowfullscreen=\"\" data-gtm-yt-inspected-10720717_22=\"true\" frameborder=\"0\" height=\"270\" id=\"ytPlayer-iaBVSJm78ko\" src=\"https://www.youtube.com/embed/iaBVSJm78ko?autoplay=1&amp;modestbranding=1&amp;rel=0&amp;enablejsapi=1&amp;origin=https://crossfit.com\" title=\"Youtube video player\" width=\"480\"></iframe>},\n",
       " {'The Push Jerk': <iframe allow=\"autoplay\" allowfullscreen=\"\" data-gtm-yt-inspected-10720717_22=\"true\" frameborder=\"0\" height=\"270\" id=\"ytPlayer-VrHNJXoSyXw\" src=\"https://www.youtube.com/embed/VrHNJXoSyXw?autoplay=1&amp;modestbranding=1&amp;rel=0&amp;enablejsapi=1&amp;origin=https://crossfit.com\" title=\"Youtube video player\" width=\"480\"></iframe>},\n",
       " {'The Overhead Squat': <iframe allow=\"autoplay\" allowfullscreen=\"\" data-gtm-yt-inspected-10720717_22=\"true\" frameborder=\"0\" height=\"270\" id=\"ytPlayer-pn8mqlG0nkE\" src=\"https://www.youtube.com/embed/pn8mqlG0nkE?autoplay=1&amp;modestbranding=1&amp;rel=0&amp;enablejsapi=1&amp;origin=https://crossfit.com\" title=\"Youtube video player\" width=\"480\"></iframe>},\n",
       " {'The Medicine-Ball Clean': <iframe allow=\"autoplay\" allowfullscreen=\"\" data-gtm-yt-inspected-10720717_22=\"true\" frameborder=\"0\" height=\"270\" id=\"ytPlayer-KVGhkHSrDJo\" src=\"https://www.youtube.com/embed/KVGhkHSrDJo?autoplay=1&amp;modestbranding=1&amp;rel=0&amp;enablejsapi=1&amp;origin=https://crossfit.com\" title=\"Youtube video player\" width=\"480\"></iframe>},\n",
       " {'The Push-Up': <iframe allow=\"autoplay\" allowfullscreen=\"\" data-gtm-yt-inspected-10720717_22=\"true\" frameborder=\"0\" height=\"270\" id=\"ytPlayer-0pkjOk0EiAk\" src=\"https://www.youtube.com/embed/0pkjOk0EiAk?autoplay=1&amp;modestbranding=1&amp;rel=0&amp;enablejsapi=1&amp;origin=https://crossfit.com\" title=\"Youtube video player\" width=\"480\"></iframe>},\n",
       " {'The L-Sit': <iframe allow=\"autoplay\" allowfullscreen=\"\" data-gtm-yt-inspected-10720717_22=\"true\" frameborder=\"0\" height=\"270\" id=\"ytPlayer-_HbccxgnCg0\" src=\"https://www.youtube.com/embed/_HbccxgnCg0?autoplay=1&amp;modestbranding=1&amp;rel=0&amp;enablejsapi=1&amp;origin=https://crossfit.com\" title=\"Youtube video player\" width=\"480\"></iframe>},\n",
       " {'The Strict Pull-Up': <iframe allow=\"autoplay\" allowfullscreen=\"\" data-gtm-yt-inspected-10720717_22=\"true\" frameborder=\"0\" height=\"270\" id=\"ytPlayer-HRV5YKKaeVw\" src=\"https://www.youtube.com/embed/HRV5YKKaeVw?autoplay=1&amp;modestbranding=1&amp;rel=0&amp;enablejsapi=1&amp;origin=https://crossfit.com\" title=\"Youtube video player\" width=\"480\"></iframe>},\n",
       " {'The Sumo Deadlift High Pull': <iframe allow=\"autoplay\" allowfullscreen=\"\" data-gtm-yt-inspected-10720717_22=\"true\" frameborder=\"0\" height=\"270\" id=\"ytPlayer-gh55vVlwlQg\" src=\"https://www.youtube.com/embed/gh55vVlwlQg?autoplay=1&amp;modestbranding=1&amp;rel=0&amp;enablejsapi=1&amp;origin=https://crossfit.com\" title=\"Youtube video player\" width=\"480\"></iframe>},\n",
       " {'The Front Squat': <iframe allow=\"autoplay\" allowfullscreen=\"\" data-gtm-yt-inspected-10720717_22=\"true\" frameborder=\"0\" height=\"270\" id=\"ytPlayer-uYumuL_G_V0\" src=\"https://www.youtube.com/embed/uYumuL_G_V0?autoplay=1&amp;modestbranding=1&amp;rel=0&amp;enablejsapi=1&amp;origin=https://crossfit.com\" title=\"Youtube video player\" width=\"480\"></iframe>},\n",
       " {'The GHD Hip Extension': <iframe allow=\"autoplay\" allowfullscreen=\"\" data-gtm-yt-inspected-10720717_22=\"true\" frameborder=\"0\" height=\"270\" id=\"ytPlayer-P0iuN0xygc0\" src=\"https://www.youtube.com/embed/P0iuN0xygc0?autoplay=1&amp;modestbranding=1&amp;rel=0&amp;enablejsapi=1&amp;origin=https://crossfit.com\" title=\"Youtube video player\" width=\"480\"></iframe>},\n",
       " {'The GHD Hip & Back Extension': <iframe allow=\"autoplay\" allowfullscreen=\"\" data-gtm-yt-inspected-10720717_22=\"true\" frameborder=\"0\" height=\"270\" id=\"ytPlayer-QdCzafAXJhY\" src=\"https://www.youtube.com/embed/QdCzafAXJhY?autoplay=1&amp;modestbranding=1&amp;rel=0&amp;enablejsapi=1&amp;origin=https://crossfit.com\" title=\"Youtube video player\" width=\"480\"></iframe>},\n",
       " {'The GHD Hip, Back, and Hip-Back Extensions': <iframe height=\"0\" src=\"https://www.googletagmanager.com/ns.html?id=GTM-K98WS95\" style=\"display:none;visibility:hidden\" width=\"0\"></iframe>},\n",
       " {'The GHD Back Extension': <iframe allow=\"autoplay\" allowfullscreen=\"\" data-gtm-yt-inspected-10720717_22=\"true\" frameborder=\"0\" height=\"270\" id=\"ytPlayer-ivDB23Kcv-A\" src=\"https://www.youtube.com/embed/ivDB23Kcv-A?autoplay=1&amp;modestbranding=1&amp;rel=0&amp;enablejsapi=1&amp;origin=https://crossfit.com\" title=\"Youtube video player\" width=\"480\"></iframe>},\n",
       " {'The Shoulder Press': <iframe allow=\"autoplay\" allowfullscreen=\"\" data-gtm-yt-inspected-10720717_22=\"true\" frameborder=\"0\" height=\"270\" id=\"ytPlayer-5yWaNOvgFCM\" src=\"https://www.youtube.com/embed/5yWaNOvgFCM?autoplay=1&amp;modestbranding=1&amp;rel=0&amp;enablejsapi=1&amp;origin=https://crossfit.com\" title=\"Youtube video player\" width=\"480\"></iframe>},\n",
       " {'The Air Squat': <iframe allow=\"autoplay\" allowfullscreen=\"\" data-gtm-yt-inspected-10720717_22=\"true\" frameborder=\"0\" height=\"270\" id=\"ytPlayer-rMvwVtlqjTE\" src=\"https://www.youtube.com/embed/rMvwVtlqjTE?autoplay=1&amp;modestbranding=1&amp;rel=0&amp;enablejsapi=1&amp;origin=https://crossfit.com\" title=\"Youtube video player\" width=\"480\"></iframe>}]"
      ]
     },
     "execution_count": 22,
     "metadata": {},
     "output_type": "execute_result"
    }
   ],
   "source": [
    "lista_nueva"
   ]
  },
  {
   "cell_type": "code",
   "execution_count": 23,
   "id": "65d4c2eb",
   "metadata": {},
   "outputs": [],
   "source": [
    "final = [{\"name\": k, \"iframe\":f\"{iframe}\"}  for diccionario in lista_nueva for k,iframe in diccionario.items()]"
   ]
  },
  {
   "cell_type": "code",
   "execution_count": 24,
   "id": "6a56143c",
   "metadata": {},
   "outputs": [],
   "source": [
    "yaestaria = pd.DataFrame(final)"
   ]
  },
  {
   "cell_type": "code",
   "execution_count": 25,
   "id": "0dac3355",
   "metadata": {},
   "outputs": [
    {
     "data": {
      "text/html": [
       "<div>\n",
       "<style scoped>\n",
       "    .dataframe tbody tr th:only-of-type {\n",
       "        vertical-align: middle;\n",
       "    }\n",
       "\n",
       "    .dataframe tbody tr th {\n",
       "        vertical-align: top;\n",
       "    }\n",
       "\n",
       "    .dataframe thead th {\n",
       "        text-align: right;\n",
       "    }\n",
       "</style>\n",
       "<table border=\"1\" class=\"dataframe\">\n",
       "  <thead>\n",
       "    <tr style=\"text-align: right;\">\n",
       "      <th></th>\n",
       "      <th>name</th>\n",
       "      <th>iframe</th>\n",
       "    </tr>\n",
       "  </thead>\n",
       "  <tbody>\n",
       "    <tr>\n",
       "      <th>0</th>\n",
       "      <td>The Legless Rope climb</td>\n",
       "      <td>&lt;iframe allow=\"autoplay\" allowfullscreen=\"\" da...</td>\n",
       "    </tr>\n",
       "    <tr>\n",
       "      <th>1</th>\n",
       "      <td>The Dumbbell Front-Rack Lunge</td>\n",
       "      <td>&lt;iframe allow=\"autoplay\" allowfullscreen=\"\" da...</td>\n",
       "    </tr>\n",
       "    <tr>\n",
       "      <th>2</th>\n",
       "      <td>The Dumbbell Hang Power Clean</td>\n",
       "      <td>&lt;iframe allow=\"autoplay\" allowfullscreen=\"\" da...</td>\n",
       "    </tr>\n",
       "    <tr>\n",
       "      <th>3</th>\n",
       "      <td>The Ring Push-Up</td>\n",
       "      <td>&lt;iframe allow=\"autoplay\" allowfullscreen=\"\" da...</td>\n",
       "    </tr>\n",
       "    <tr>\n",
       "      <th>4</th>\n",
       "      <td>The Kipping Handstand Push-up</td>\n",
       "      <td>&lt;iframe allow=\"autoplay\" allowfullscreen=\"\" da...</td>\n",
       "    </tr>\n",
       "  </tbody>\n",
       "</table>\n",
       "</div>"
      ],
      "text/plain": [
       "                            name  \\\n",
       "0         The Legless Rope climb   \n",
       "1  The Dumbbell Front-Rack Lunge   \n",
       "2  The Dumbbell Hang Power Clean   \n",
       "3               The Ring Push-Up   \n",
       "4  The Kipping Handstand Push-up   \n",
       "\n",
       "                                              iframe  \n",
       "0  <iframe allow=\"autoplay\" allowfullscreen=\"\" da...  \n",
       "1  <iframe allow=\"autoplay\" allowfullscreen=\"\" da...  \n",
       "2  <iframe allow=\"autoplay\" allowfullscreen=\"\" da...  \n",
       "3  <iframe allow=\"autoplay\" allowfullscreen=\"\" da...  \n",
       "4  <iframe allow=\"autoplay\" allowfullscreen=\"\" da...  "
      ]
     },
     "execution_count": 25,
     "metadata": {},
     "output_type": "execute_result"
    }
   ],
   "source": [
    "yaestaria.head()"
   ]
  },
  {
   "cell_type": "code",
   "execution_count": 27,
   "id": "03999b46",
   "metadata": {},
   "outputs": [],
   "source": [
    "yaestaria.to_csv(\"../data/movimientos_video.csv\")"
   ]
  },
  {
   "cell_type": "code",
   "execution_count": 30,
   "id": "84444fe8",
   "metadata": {},
   "outputs": [],
   "source": [
    "h = yaestaria[yaestaria[\"name\"] == \"The Legless Rope climb\"]"
   ]
  },
  {
   "cell_type": "code",
   "execution_count": 36,
   "id": "944c7858",
   "metadata": {},
   "outputs": [
    {
     "data": {
      "text/plain": [
       "str"
      ]
     },
     "execution_count": 36,
     "metadata": {},
     "output_type": "execute_result"
    }
   ],
   "source": [
    "type(h[\"iframe\"].values[0])"
   ]
  },
  {
   "cell_type": "code",
   "execution_count": 18,
   "id": "01f1d8a0",
   "metadata": {},
   "outputs": [
    {
     "name": "stdout",
     "output_type": "stream",
     "text": [
      "[<div class=\"_hero-video_1fikz_124 _tall_1fikz_139\"><iframe allow=\"autoplay\" allowfullscreen=\"\" data-gtm-yt-inspected-10720717_22=\"true\" frameborder=\"0\" height=\"270\" id=\"ytPlayer-Pa4QUC9AvuA\" src=\"https://www.youtube.com/embed/Pa4QUC9AvuA?autoplay=1&amp;modestbranding=1&amp;rel=0&amp;enablejsapi=1&amp;origin=https://crossfit.com\" title=\"Youtube video player\" width=\"480\"></iframe></div>]\n"
     ]
    }
   ],
   "source": [
    "#print(enlaces)"
   ]
  },
  {
   "cell_type": "markdown",
   "id": "ed83fd42",
   "metadata": {},
   "source": [
    "#### conseguir lista de movimientos"
   ]
  },
  {
   "cell_type": "code",
   "execution_count": 70,
   "id": "e2ef2c05",
   "metadata": {},
   "outputs": [
    {
     "name": "stderr",
     "output_type": "stream",
     "text": [
      "<ipython-input-70-95f736b8b672>:2: DeprecationWarning: executable_path has been deprecated, please pass in a Service object\n",
      "  driver = webdriver.Chrome(driver, options = opciones)\n",
      "<ipython-input-70-95f736b8b672>:7: DeprecationWarning: find_element_by_* commands are deprecated. Please use find_element() instead\n",
      "  driver.find_element_by_css_selector(\"#modal > div > div > button\").click()\n",
      "<ipython-input-70-95f736b8b672>:15: DeprecationWarning: find_element_by_* commands are deprecated. Please use find_element() instead\n",
      "  driver.find_element_by_css_selector(\"#main > div:nth-child(4) > section > div > button\").click()\n",
      "<ipython-input-70-95f736b8b672>:22: DeprecationWarning: find_element_by_* commands are deprecated. Please use find_element() instead\n",
      "  movimientos.append(driver.find_element_by_css_selector(f\"#main > div:nth-child(4) > section > article:nth-child({i}) > div > div > a:nth-child(1) > h2\").text)\n",
      "<ipython-input-70-95f736b8b672>:23: DeprecationWarning: find_element_by_* commands are deprecated. Please use find_element() instead\n",
      "  videos.append(driver.find_element_by_css_selector(f\"head > link:nth-child({i})\").text)\n"
     ]
    }
   ],
   "source": [
    "driver = \"./chromedriver.exe\"\n",
    "driver = webdriver.Chrome(driver, options = opciones)\n",
    "url = \"https://www.crossfit.com/essentials/movements/\"\n",
    "driver.get(url)\n",
    "\n",
    "driver.implicitly_wait(2)\n",
    "driver.find_element_by_css_selector(\"#modal > div > div > button\").click()\n",
    "\n",
    "movimientos = []\n",
    "videos = []\n",
    "\n",
    "\n",
    "for i in range (1,143):\n",
    "    try:\n",
    "\n",
    "        driver.execute_script(\"window.scrollTo(0, window.scrollY + 300)\")\n",
    "        driver.find_element_by_css_selector(\"#main > div:nth-child(4) > section > div > button\").click()\n",
    "        driver.execute_script(\"window.scrollTo(0, window.scrollY + 300)\")\n",
    "    except:\n",
    "        break\n",
    "\n",
    "for i in range (1,143):\n",
    "    try:   \n",
    "        \n",
    "        movimientos.append(driver.find_element_by_css_selector(f\"#main > div:nth-child(4) > section > article:nth-child({i}) > div > div > a:nth-child(1) > h2\").text)\n",
    "        videos.append(driver.find_element_by_css_selector(f\"head > link:nth-child({i})\").text)\n",
    "    except:\n",
    "        break\n",
    "        \n"
   ]
  }
 ],
 "metadata": {
  "kernelspec": {
   "display_name": "ironhack",
   "language": "python",
   "name": "ironhack"
  },
  "language_info": {
   "codemirror_mode": {
    "name": "ipython",
    "version": 3
   },
   "file_extension": ".py",
   "mimetype": "text/x-python",
   "name": "python",
   "nbconvert_exporter": "python",
   "pygments_lexer": "ipython3",
   "version": "3.8.5"
  }
 },
 "nbformat": 4,
 "nbformat_minor": 5
}
